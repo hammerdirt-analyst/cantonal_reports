{
 "cells": [
  {
   "cell_type": "code",
   "execution_count": 1,
   "id": "542040b8-2511-4385-a89a-8ea55b45e7e5",
   "metadata": {
    "editable": true,
    "slideshow": {
     "slide_type": ""
    },
    "tags": [
     "remove-input"
    ]
   },
   "outputs": [],
   "source": [
    "%load_ext watermark\n",
    "import pandas as pd\n",
    "import numpy as np\n",
    "import datetime as dt\n",
    "from IPython.display import Markdown as md\n",
    "import matplotlib.pyplot as plt\n",
    "from matplotlib.patches import Patch\n",
    "from matplotlib.lines import Line2D\n",
    "import seaborn as sns\n",
    "import json\n",
    "\n",
    "# this defines the css rules for the note-book table displays\n",
    "header_row = {'selector': 'th:nth-child(1)', 'props': f'background-color: #FFF; text-align:right'}\n",
    "even_rows = {\"selector\": 'tr:nth-child(even)', 'props': f'background-color: rgba(139, 69, 19, 0.08);'}\n",
    "odd_rows = {'selector': 'tr:nth-child(odd)', 'props': 'background: #FFF;'}\n",
    "table_font = {'selector': 'tr', 'props': 'font-size: 10px;'}\n",
    "table_data = {'selector': 'td', 'props': 'padding: 6px;'}\n",
    "table_caption = {'selector': 'caption', 'props': 'font-size: 14px; font-style: italic; caption-side: bottom; text-align: left; margin-top: 10px'}\n",
    "table_css_styles = [even_rows, odd_rows, table_font, header_row, table_caption]\n",
    "\n",
    "table_large_data = {'selector': 'tr', 'props': 'font-size: 14px;'}\n",
    "table_large_font = [even_rows, odd_rows, table_large_data, header_row, table_caption]\n",
    "\n",
    "def rotateText(x):\n",
    "    return 'writing-mode: vertical-lr; transform: rotate(-180deg);  padding:10px; margins:0; vertical-align: baseline;'\n",
    "\n",
    "canton = \"Genève\"\n",
    "cantons_avoisinante = \"Valais, Vaud\"\n",
    "other_cantons = [\"Valais\", \"Vaud\"]\n",
    "\n",
    "def save_json(filename, data):\n",
    "    with open(f\"resources/{filename}\", \"w\") as afile:\n",
    "        json.dump(data, afile)\n",
    "\n",
    "def open_json(filename):\n",
    "    with open(f\"resources/{filename}\", \"r\") as afile:\n",
    "        data = json.load(afile)\n",
    "        return data\n",
    "    \n",
    "\n",
    "display_names = open_json(\"french_display_names.json\")\n",
    "\n",
    "land_use_names = open_json(\"french_land_use_names.json\")\n",
    "\n",
    "material_names = open_json(\"french_material_names.json\")\n",
    "\n",
    "group_names = open_json(\"french_group_names.json\")\n",
    "\n",
    "french_names = open_json(\"french_code_translations.json\")\n",
    "\n",
    "# land use\n",
    "land_use = pd.read_csv(\"resources/work_land_use.csv\")\n",
    "lu_map = land_use[land_use.use == \"Siedl\"][[\"slug\", \"scaled\"]].set_index(\"slug\")\n",
    "\n",
    "all_data = pd.read_csv(\"resources/survey_work_data.csv\", low_memory=False)\n",
    "all_data = all_data[['loc_date', 'slug', 'city', 'water_name_slug', 'date', 'doy', 'Project', 'code', 'pcs/m', 'quantity', 'canton', 'zone']].copy()\n",
    "all_data[\"date\"] = pd.to_datetime(all_data[\"date\"])\n",
    "all_data = all_data[all_data.code != \"G216\"]"
   ]
  },
  {
   "cell_type": "code",
   "execution_count": 2,
   "id": "091670cf-c03f-4be2-9fe0-1dcca9086208",
   "metadata": {
    "editable": true,
    "slideshow": {
     "slide_type": ""
    },
    "tags": [
     "remove-input"
    ]
   },
   "outputs": [],
   "source": [
    "codes_of_interest = [\n",
    "    \"G95\",\n",
    "    \"G70\",\n",
    "    \"Gfrags\",\n",
    "    \"Gfoam\",\n",
    "    \"G112\",\n",
    "    \"G27\",\n",
    "    \"G30\",\n",
    "    \"G67\",\n",
    "    \"G10\",\n",
    "    \"Gcaps\",\n",
    "]\n",
    "\n",
    "all_data = all_data[all_data.code.isin(codes_of_interest)].copy()\n",
    "valais_all =  all_data[all_data.canton == canton].copy()\n",
    "valais_all.drop_duplicates([\"code\", \"loc_date\"], inplace=True)\n",
    "\n",
    "not_valais = all_data[all_data.canton.isin(other_cantons)].copy()\n",
    "\n",
    "operations={\n",
    "    \"loc_date\":\"nunique\", \n",
    "    \"city\":\"nunique\", \n",
    "    \"quantity\":\"sum\",\n",
    "    \"slug\":\"nunique\"\n",
    "}\n",
    "summary_data = valais_all.groupby([\"zone\"]).agg(operations)\n",
    "\n",
    "summary_data = summary_data.astype(\"int\")"
   ]
  },
  {
   "cell_type": "markdown",
   "id": "aa48c91d-1c3f-4dd0-8583-9019a3ee459f",
   "metadata": {
    "editable": true,
    "slideshow": {
     "slide_type": ""
    },
    "tags": []
   },
   "source": [
    "# Genève"
   ]
  },
  {
   "cell_type": "markdown",
   "id": "ee24c3e9-ef35-4fff-a322-fb630b33ecae",
   "metadata": {
    "editable": true,
    "slideshow": {
     "slide_type": ""
    },
    "tags": []
   },
   "source": [
    "## Historique\n",
    "\n",
    "A compléter\n",
    "\n",
    "### Definitions/abbreviations\n",
    "\n",
    "1. __pcs/m:__ nombre de déchets pour un mètre de littoral ou sentier pédestre\n",
    "2. __quantité:__ le nombre de déchets identifier\n",
    "3. __échantillons/inventaire:__ L'action de ramasser les déchets et de les compter à un endroit donné.\n",
    "4. __utilsation du sols:__ Cela correspond aux couches cartographiques disponibles sur swiss GeoAdmin.\n",
    "5. __taux d'échec:__ Rapport entre le nombre de fois où un objet spécifique a été trouvé et le nombre total d'échantillons. Un peu comme la fréquence."
   ]
  },
  {
   "cell_type": "markdown",
   "id": "49b10687-f469-45ec-9019-345d4c213754",
   "metadata": {
    "editable": true,
    "slideshow": {
     "slide_type": ""
    },
    "tags": []
   },
   "source": [
    "### Objets d'intérêt"
   ]
  },
  {
   "cell_type": "markdown",
   "id": "206de3e5-fd1b-4b2b-8022-e15360baf497",
   "metadata": {
    "editable": true,
    "slideshow": {
     "slide_type": ""
    },
    "tags": []
   },
   "source": [
    "Les objets d'intérêt sont ceux qui ont été trouvés dans au moins 50 % des enquêtes ou qui figurent parmi les dix objets les plus abondants en termes de quantité.\n",
    "\n",
    "```{note}\n",
    "Le choix du mode de regroupement des différents objets doit doivent être représentatifs des groupes cibles ou des domaines de préoccupation. Il peut y avoir de nombreux groupes différents qui sont corrects, cela dépend du cas d'utilisation. Dans le cas présent, nous nous intéressons aux objets qui ont été trouvés souvent et en grande quantité.\n",
    "```"
   ]
  },
  {
   "cell_type": "code",
   "execution_count": 3,
   "id": "0daae271-da27-4b7a-afaf-b23ec1f0f381",
   "metadata": {
    "editable": true,
    "slideshow": {
     "slide_type": ""
    },
    "tags": [
     "remove-input"
    ]
   },
   "outputs": [
    {
     "data": {
      "text/html": [
       "<style type=\"text/css\">\n",
       "#T_c678f tr:nth-child(even) {\n",
       "  background-color: rgba(139, 69, 19, 0.08);\n",
       "}\n",
       "#T_c678f tr:nth-child(odd) {\n",
       "  background: #FFF;\n",
       "}\n",
       "#T_c678f tr {\n",
       "  font-size: 14px;\n",
       "}\n",
       "#T_c678f th:nth-child(1) {\n",
       "  background-color: #FFF;\n",
       "  text-align: right;\n",
       "}\n",
       "#T_c678f caption {\n",
       "  font-size: 14px;\n",
       "  font-style: italic;\n",
       "  caption-side: bottom;\n",
       "  text-align: left;\n",
       "  margin-top: 10px;\n",
       "}\n",
       "</style>\n",
       "<table id=\"T_c678f\">\n",
       "  <thead>\n",
       "    <tr>\n",
       "      <th class=\"blank level0\" >&nbsp;</th>\n",
       "      <th id=\"T_c678f_level0_col0\" class=\"col_heading level0 col0\" >quantité</th>\n",
       "      <th id=\"T_c678f_level0_col1\" class=\"col_heading level0 col1\" >pcs/m</th>\n",
       "      <th id=\"T_c678f_level0_col2\" class=\"col_heading level0 col2\" >% de totale</th>\n",
       "      <th id=\"T_c678f_level0_col3\" class=\"col_heading level0 col3\" >fail_rate</th>\n",
       "    </tr>\n",
       "  </thead>\n",
       "  <tbody>\n",
       "    <tr>\n",
       "      <th id=\"T_c678f_level0_row0\" class=\"row_heading level0 row0\" >Plastiques fragmentés</th>\n",
       "      <td id=\"T_c678f_row0_col0\" class=\"data row0 col0\" >2,872</td>\n",
       "      <td id=\"T_c678f_row0_col1\" class=\"data row0 col1\" >0.81</td>\n",
       "      <td id=\"T_c678f_row0_col2\" class=\"data row0 col2\" >0.32</td>\n",
       "      <td id=\"T_c678f_row0_col3\" class=\"data row0 col3\" >0.83</td>\n",
       "    </tr>\n",
       "    <tr>\n",
       "      <th id=\"T_c678f_level0_row1\" class=\"row_heading level0 row1\" >Mégots et filtres à cigarettes</th>\n",
       "      <td id=\"T_c678f_row1_col0\" class=\"data row1 col0\" >2,000</td>\n",
       "      <td id=\"T_c678f_row1_col1\" class=\"data row1 col1\" >0.27</td>\n",
       "      <td id=\"T_c678f_row1_col2\" class=\"data row1 col2\" >0.22</td>\n",
       "      <td id=\"T_c678f_row1_col3\" class=\"data row1 col3\" >0.92</td>\n",
       "    </tr>\n",
       "    <tr>\n",
       "      <th id=\"T_c678f_level0_row2\" class=\"row_heading level0 row2\" >Emballages de bonbons, de snacks</th>\n",
       "      <td id=\"T_c678f_row2_col0\" class=\"data row2 col0\" >1,036</td>\n",
       "      <td id=\"T_c678f_row2_col1\" class=\"data row2 col1\" >0.17</td>\n",
       "      <td id=\"T_c678f_row2_col2\" class=\"data row2 col2\" >0.12</td>\n",
       "      <td id=\"T_c678f_row2_col3\" class=\"data row2 col3\" >0.85</td>\n",
       "    </tr>\n",
       "    <tr>\n",
       "      <th id=\"T_c678f_level0_row3\" class=\"row_heading level0 row3\" >Polystyrène expansé fragmenté</th>\n",
       "      <td id=\"T_c678f_row3_col0\" class=\"data row3 col0\" >942</td>\n",
       "      <td id=\"T_c678f_row3_col1\" class=\"data row3 col1\" >0.05</td>\n",
       "      <td id=\"T_c678f_row3_col2\" class=\"data row3 col2\" >0.11</td>\n",
       "      <td id=\"T_c678f_row3_col3\" class=\"data row3 col3\" >0.61</td>\n",
       "    </tr>\n",
       "    <tr>\n",
       "      <th id=\"T_c678f_level0_row4\" class=\"row_heading level0 row4\" >Pellets industriels (GPI)</th>\n",
       "      <td id=\"T_c678f_row4_col0\" class=\"data row4 col0\" >681</td>\n",
       "      <td id=\"T_c678f_row4_col1\" class=\"data row4 col1\" >0.0</td>\n",
       "      <td id=\"T_c678f_row4_col2\" class=\"data row4 col2\" >0.08</td>\n",
       "      <td id=\"T_c678f_row4_col3\" class=\"data row4 col3\" >0.34</td>\n",
       "    </tr>\n",
       "    <tr>\n",
       "      <th id=\"T_c678f_level0_row5\" class=\"row_heading level0 row5\" >Couvercles de bouteilles en plastique</th>\n",
       "      <td id=\"T_c678f_row5_col0\" class=\"data row5 col0\" >486</td>\n",
       "      <td id=\"T_c678f_row5_col1\" class=\"data row5 col1\" >0.09</td>\n",
       "      <td id=\"T_c678f_row5_col2\" class=\"data row5 col2\" >0.05</td>\n",
       "      <td id=\"T_c678f_row5_col3\" class=\"data row5 col3\" >0.83</td>\n",
       "    </tr>\n",
       "    <tr>\n",
       "      <th id=\"T_c678f_level0_row6\" class=\"row_heading level0 row6\" >Coton-tige</th>\n",
       "      <td id=\"T_c678f_row6_col0\" class=\"data row6 col0\" >484</td>\n",
       "      <td id=\"T_c678f_row6_col1\" class=\"data row6 col1\" >0.04</td>\n",
       "      <td id=\"T_c678f_row6_col2\" class=\"data row6 col2\" >0.05</td>\n",
       "      <td id=\"T_c678f_row6_col3\" class=\"data row6 col3\" >0.61</td>\n",
       "    </tr>\n",
       "    <tr>\n",
       "      <th id=\"T_c678f_level0_row7\" class=\"row_heading level0 row7\" >Bâche, feuille plastique industrielle</th>\n",
       "      <td id=\"T_c678f_row7_col0\" class=\"data row7 col0\" >290</td>\n",
       "      <td id=\"T_c678f_row7_col1\" class=\"data row7 col1\" >0.0</td>\n",
       "      <td id=\"T_c678f_row7_col2\" class=\"data row7 col2\" >0.03</td>\n",
       "      <td id=\"T_c678f_row7_col3\" class=\"data row7 col3\" >0.41</td>\n",
       "    </tr>\n",
       "    <tr>\n",
       "      <th id=\"T_c678f_level0_row8\" class=\"row_heading level0 row8\" >Cartouches de fusil de chasse</th>\n",
       "      <td id=\"T_c678f_row8_col0\" class=\"data row8 col0\" >70</td>\n",
       "      <td id=\"T_c678f_row8_col1\" class=\"data row8 col1\" >0.0</td>\n",
       "      <td id=\"T_c678f_row8_col2\" class=\"data row8 col2\" >0.01</td>\n",
       "      <td id=\"T_c678f_row8_col3\" class=\"data row8 col3\" >0.31</td>\n",
       "    </tr>\n",
       "    <tr>\n",
       "      <th id=\"T_c678f_level0_row9\" class=\"row_heading level0 row9\" >Emballage fast food</th>\n",
       "      <td id=\"T_c678f_row9_col0\" class=\"data row9 col0\" >52</td>\n",
       "      <td id=\"T_c678f_row9_col1\" class=\"data row9 col1\" >0.0</td>\n",
       "      <td id=\"T_c678f_row9_col2\" class=\"data row9 col2\" >0.01</td>\n",
       "      <td id=\"T_c678f_row9_col3\" class=\"data row9 col3\" >0.34</td>\n",
       "    </tr>\n",
       "  </tbody>\n",
       "</table>\n"
      ],
      "text/plain": [
       "<pandas.io.formats.style.Styler at 0x7fe4c2b56040>"
      ]
     },
     "execution_count": 3,
     "metadata": {},
     "output_type": "execute_result"
    }
   ],
   "source": [
    "# find the ojects that were in at least 50% of the surveys\n",
    "valais_all[\"fail\"] = valais_all['pcs/m'] > 0\n",
    "fail_rates = valais_all.groupby(\"code\", as_index=False).fail.sum()\n",
    "n_samps = valais_all.loc_date.nunique()\n",
    "fail_rates[\"rate\"]= fail_rates.fail/n_samps\n",
    "fail_rates = fail_rates.sort_values(by=\"rate\", ascending=False)\n",
    "failed = fail_rates[fail_rates.rate >= .5].code.unique()\n",
    "\n",
    "# find the top ten items\n",
    "abundant = valais_all.groupby(\"code\", as_index=False).quantity.sum()\n",
    "abundant_c = abundant.sort_values(by=\"quantity\", ascending=False)[:10].code.unique()\n",
    "\n",
    "# combine them\n",
    "most_common_codes = list(set([*abundant, *failed]))\n",
    "\n",
    "# combine and display\n",
    "mc_data = valais_all[valais_all.code.isin(codes_of_interest)].groupby(\"code\", as_index=False).agg({\"quantity\":\"sum\", \"pcs/m\":\"median\", \"fail\":\"sum\"})\n",
    "mc_data[\"fail_rate\"] = (mc_data.fail/n_samps).round(2)\n",
    "mc_data[\"q_weight\"] = (mc_data.quantity/abundant.quantity.sum()).round(2)\n",
    "mc_data[\"object\"] = mc_data.code.apply(lambda x: french_names[x])\n",
    "mc_data = mc_data[[\"object\", \"quantity\", \"pcs/m\", \"q_weight\", \"fail_rate\"]]\n",
    "\n",
    "mc_data = mc_data.sort_values(by=\"quantity\", ascending=False)\n",
    "mc_data[\"quantity\"] = mc_data.quantity.astype(\"int\")\n",
    "mc_data[\"pcs/m\"] = mc_data[\"pcs/m\"].round(2)\n",
    "mc_data.set_index(\"object\", drop=True, inplace=True)\n",
    "mc_data.index.name = None\n",
    "mc_data.rename(columns=display_names).style.set_table_styles(table_large_font).format('{:,}')"
   ]
  },
  {
   "cell_type": "code",
   "execution_count": 4,
   "id": "21f2dc2d-97f9-4284-b5e6-2f09104ff825",
   "metadata": {
    "editable": true,
    "slideshow": {
     "slide_type": ""
    },
    "tags": [
     "remove-input"
    ]
   },
   "outputs": [],
   "source": [
    "dims = pd.read_csv(\"resources/work_dimensions.csv\")\n",
    "\n",
    "land_use_of_interest = [\n",
    "    'Siedl', \n",
    "    'Wald',\n",
    "    'Stadtzentr',\n",
    "    'Reben', \n",
    "    'Obstanlage',\n",
    "    'undefined',\n",
    "    'infrastructure',\n",
    "    'recreation',\n",
    "    'Strasse'\n",
    "]\n",
    "\n",
    "\n",
    "def dimensional_summary(dims, survey_data, zones=[\"lac\", \"rivière\", \"montagne\"]):\n",
    "    dfs = []\n",
    "    for label in zones:\n",
    "        d_f = dims[dims.slug.isin(valais_all[valais_all.zone == label].slug.unique())].copy()\n",
    "        d_f[\"zone\"] = label\n",
    "        dfs.append(d_f)\n",
    "    dimensions = pd.concat(dfs)\n",
    "    d_sum = dimensions.groupby(\"zone\").agg({\"area\":\"sum\", \"length\":\"sum\", \"time\":\"sum\"})\n",
    "    return dimensions, d_sum\n",
    "\n",
    "dimensional_summary, d_sum = dimensional_summary(dims, valais_all, zones=[\"lac\", \"rivière\", \"montagne\"])\n",
    "\n",
    "summary_by_zone = pd.concat([summary_data, d_sum], axis=1, ignore_index=False)\n",
    "summary_by_zone[\"hours\"] = (summary_by_zone[\"time\"]/60).round(2)\n",
    "summary_by_zone.drop(\"time\", inplace=True, axis=1)\n",
    "summary_by_zone.loc[\"total\", : ] = summary_by_zone.sum()"
   ]
  },
  {
   "cell_type": "markdown",
   "id": "f533d235-792e-4a84-8e9a-1c0f6a6b0888",
   "metadata": {
    "editable": true,
    "slideshow": {
     "slide_type": ""
    },
    "tags": []
   },
   "source": [
    "### Résumé des échantillons novembre 2015 à décembre 2022\n",
    "\n",
    "A compléter"
   ]
  },
  {
   "cell_type": "code",
   "execution_count": 5,
   "id": "643ffd90-59af-4c40-8d7d-592859dd739c",
   "metadata": {
    "editable": true,
    "slideshow": {
     "slide_type": ""
    },
    "tags": [
     "remove-input"
    ]
   },
   "outputs": [
    {
     "data": {
      "text/html": [
       "<style type=\"text/css\">\n",
       "#T_6e9f9 tr:nth-child(even) {\n",
       "  background-color: rgba(139, 69, 19, 0.08);\n",
       "}\n",
       "#T_6e9f9 tr:nth-child(odd) {\n",
       "  background: #FFF;\n",
       "}\n",
       "#T_6e9f9 tr {\n",
       "  font-size: 14px;\n",
       "}\n",
       "#T_6e9f9 th:nth-child(1) {\n",
       "  background-color: #FFF;\n",
       "  text-align: right;\n",
       "}\n",
       "#T_6e9f9 caption {\n",
       "  font-size: 14px;\n",
       "  font-style: italic;\n",
       "  caption-side: bottom;\n",
       "  text-align: left;\n",
       "  margin-top: 10px;\n",
       "}\n",
       "</style>\n",
       "<table id=\"T_6e9f9\">\n",
       "  <caption>Historique des échantillonnages Genève : Le nombre d'échantillons et l'ampleur de l'effort par contexte. Remarque : les heures correspondent au temps passé à compter et à collecter.</caption>\n",
       "  <thead>\n",
       "    <tr>\n",
       "      <th class=\"blank level0\" >&nbsp;</th>\n",
       "      <th id=\"T_6e9f9_level0_col0\" class=\"col_heading level0 col0\" >échantillons</th>\n",
       "      <th id=\"T_6e9f9_level0_col1\" class=\"col_heading level0 col1\" >municipalités</th>\n",
       "      <th id=\"T_6e9f9_level0_col2\" class=\"col_heading level0 col2\" >quantité</th>\n",
       "      <th id=\"T_6e9f9_level0_col3\" class=\"col_heading level0 col3\" >site</th>\n",
       "      <th id=\"T_6e9f9_level0_col4\" class=\"col_heading level0 col4\" >m²</th>\n",
       "      <th id=\"T_6e9f9_level0_col5\" class=\"col_heading level0 col5\" >mètres</th>\n",
       "      <th id=\"T_6e9f9_level0_col6\" class=\"col_heading level0 col6\" >heures</th>\n",
       "    </tr>\n",
       "  </thead>\n",
       "  <tbody>\n",
       "    <tr>\n",
       "      <th id=\"T_6e9f9_level0_row0\" class=\"row_heading level0 row0\" >lac</th>\n",
       "      <td id=\"T_6e9f9_row0_col0\" class=\"data row0 col0\" >50</td>\n",
       "      <td id=\"T_6e9f9_row0_col1\" class=\"data row0 col1\" >4</td>\n",
       "      <td id=\"T_6e9f9_row0_col2\" class=\"data row0 col2\" >8,692</td>\n",
       "      <td id=\"T_6e9f9_row0_col3\" class=\"data row0 col3\" >11</td>\n",
       "      <td id=\"T_6e9f9_row0_col4\" class=\"data row0 col4\" >16,119</td>\n",
       "      <td id=\"T_6e9f9_row0_col5\" class=\"data row0 col5\" >4,432</td>\n",
       "      <td id=\"T_6e9f9_row0_col6\" class=\"data row0 col6\" >108</td>\n",
       "    </tr>\n",
       "    <tr>\n",
       "      <th id=\"T_6e9f9_level0_row1\" class=\"row_heading level0 row1\" >rivière</th>\n",
       "      <td id=\"T_6e9f9_row1_col0\" class=\"data row1 col0\" >9</td>\n",
       "      <td id=\"T_6e9f9_row1_col1\" class=\"data row1 col1\" >2</td>\n",
       "      <td id=\"T_6e9f9_row1_col2\" class=\"data row1 col2\" >221</td>\n",
       "      <td id=\"T_6e9f9_row1_col3\" class=\"data row1 col3\" >2</td>\n",
       "      <td id=\"T_6e9f9_row1_col4\" class=\"data row1 col4\" >100</td>\n",
       "      <td id=\"T_6e9f9_row1_col5\" class=\"data row1 col5\" >20</td>\n",
       "      <td id=\"T_6e9f9_row1_col6\" class=\"data row1 col6\" >1</td>\n",
       "    </tr>\n",
       "    <tr>\n",
       "      <th id=\"T_6e9f9_level0_row2\" class=\"row_heading level0 row2\" >total</th>\n",
       "      <td id=\"T_6e9f9_row2_col0\" class=\"data row2 col0\" >59</td>\n",
       "      <td id=\"T_6e9f9_row2_col1\" class=\"data row2 col1\" >6</td>\n",
       "      <td id=\"T_6e9f9_row2_col2\" class=\"data row2 col2\" >8,913</td>\n",
       "      <td id=\"T_6e9f9_row2_col3\" class=\"data row2 col3\" >13</td>\n",
       "      <td id=\"T_6e9f9_row2_col4\" class=\"data row2 col4\" >16,219</td>\n",
       "      <td id=\"T_6e9f9_row2_col5\" class=\"data row2 col5\" >4,452</td>\n",
       "      <td id=\"T_6e9f9_row2_col6\" class=\"data row2 col6\" >110</td>\n",
       "    </tr>\n",
       "  </tbody>\n",
       "</table>\n"
      ],
      "text/plain": [
       "<pandas.io.formats.style.Styler at 0x7fe5101fd6d0>"
      ]
     },
     "execution_count": 5,
     "metadata": {},
     "output_type": "execute_result"
    }
   ],
   "source": [
    "caption_french = f\"Historique des échantillonnages {canton} : Le nombre d'échantillons et l'ampleur de l'effort par contexte. Remarque : les heures correspondent au temps passé à compter et à collecter.\"\n",
    "\n",
    "summary_by_zone.index.name = None\n",
    "summary_by_zone.rename(columns=display_names, inplace=True)\n",
    "summary_by_zone = summary_by_zone.astype(\"int\")\n",
    "summary_by_zone.style.set_table_styles(table_large_font).format('{:,}' ).set_caption(caption_french)"
   ]
  },
  {
   "cell_type": "markdown",
   "id": "504cb022-4091-462a-b3f4-ac2a4b7e11fa",
   "metadata": {
    "editable": true,
    "slideshow": {
     "slide_type": ""
    },
    "tags": []
   },
   "source": [
    "### Communes et zones d'intérêt"
   ]
  },
  {
   "cell_type": "code",
   "execution_count": 6,
   "id": "3f6ca782-d64a-430f-b9cc-6aae5b021746",
   "metadata": {
    "editable": true,
    "slideshow": {
     "slide_type": ""
    },
    "tags": [
     "remove-input"
    ]
   },
   "outputs": [
    {
     "data": {
      "text/markdown": [
       "__Municipalités:__ Genève, Hermance, Versoix, Savonière, Veyrier"
      ],
      "text/plain": [
       "<IPython.core.display.Markdown object>"
      ]
     },
     "execution_count": 6,
     "metadata": {},
     "output_type": "execute_result"
    }
   ],
   "source": [
    "cities_in_canton = ', '.join(valais_all.city.unique())\n",
    "\n",
    "munix = f'__Municipalités:__ {cities_in_canton}'\n",
    "md(munix)"
   ]
  },
  {
   "cell_type": "code",
   "execution_count": 7,
   "id": "c6b842b3-221d-4098-8423-1aac61440ab1",
   "metadata": {
    "editable": true,
    "slideshow": {
     "slide_type": ""
    },
    "tags": [
     "remove-input"
    ]
   },
   "outputs": [
    {
     "data": {
      "text/markdown": [
       "__Lacs:__ lac-leman"
      ],
      "text/plain": [
       "<IPython.core.display.Markdown object>"
      ]
     },
     "execution_count": 7,
     "metadata": {},
     "output_type": "execute_result"
    }
   ],
   "source": [
    "lakes = ', '.join(valais_all[valais_all.zone == 'lac'].water_name_slug.unique())\n",
    "lakex = f'__Lacs:__ {lakes}'\n",
    "md(lakex)"
   ]
  },
  {
   "cell_type": "code",
   "execution_count": 8,
   "id": "2fba0b0b-12d8-48b1-98df-40fe6ca55888",
   "metadata": {
    "editable": true,
    "slideshow": {
     "slide_type": ""
    },
    "tags": [
     "remove-input"
    ]
   },
   "outputs": [
    {
     "data": {
      "text/markdown": [
       "__Rivières:__ arve, rhone"
      ],
      "text/plain": [
       "<IPython.core.display.Markdown object>"
      ]
     },
     "execution_count": 8,
     "metadata": {},
     "output_type": "execute_result"
    }
   ],
   "source": [
    "rivers = ', '.join(valais_all[valais_all.zone == 'rivière'].water_name_slug.unique())\n",
    "riverx = f'__Rivières:__ {rivers}'\n",
    "md(riverx)"
   ]
  },
  {
   "cell_type": "markdown",
   "id": "8a8565c8-03f3-40b8-bb37-80afa76212db",
   "metadata": {
    "editable": true,
    "slideshow": {
     "slide_type": ""
    },
    "tags": []
   },
   "source": [
    "### Utilisation des sols: (m² utilisé) / (m² disponible)\n",
    "\n",
    "L'utilisation du sol des sites étudiés en par rapport à l'utilisation du sol d'autres cantons sur le lac. \n",
    "\n",
    "Chaque lieu d'inventaire est géolocalisé au centre d'un hexagone de 3 000 mètres. L'ampleur des attributs de l'occupation et de l'utilisation des sols à l'intérieur de cet hexagone est calculée. Cette procédure peut améliorer le choix des lieux d'échantillonnage. Les résultats ont déjà été utilisés pour identifier les caractéristiques d'un lieu d'inventaire qui peuvent conduire à l'accumulation de certains déchets."
   ]
  },
  {
   "cell_type": "code",
   "execution_count": 9,
   "id": "7317f264-93ba-42ef-8562-58ce651da694",
   "metadata": {
    "editable": true,
    "slideshow": {
     "slide_type": ""
    },
    "tags": [
     "remove-input"
    ]
   },
   "outputs": [
    {
     "data": {
      "image/png": "[encoded data removed]",
      "text/plain": [
       "<Figure size 700x600 with 10 Axes>"
      ]
     },
     "metadata": {},
     "output_type": "display_data"
    }
   ],
   "source": [
    "fig, axs = plt.subplots(2, 5, figsize=(7,6), sharey=True)\n",
    "\n",
    "valais_locs = valais_all.slug.unique()\n",
    "region_locs = not_valais.slug.unique()\n",
    "\n",
    "index_order = [\n",
    "    'Siedl',\n",
    "    'infrastructure', \n",
    "    'Wald',\n",
    "    'Obstanlage',\n",
    "    'Undefined',\n",
    "    'recreation',\n",
    "    'Reben',\n",
    "    'Stadtzentr',\n",
    "  \n",
    "]\n",
    "\n",
    "ax_s = {\n",
    "    'Siedl':[0,0],\n",
    "    'infrastructure':[0,1], \n",
    "    'Wald':[0,2],\n",
    "    'Obstanlage':[0,3],\n",
    "    'undefined':[0,4],\n",
    "    'recreation':[1,0],\n",
    "    'Reben':[1,1],\n",
    "    'Stadtzentr':[1,2],\n",
    "}\n",
    "\n",
    "l_used = land_use[land_use.use.isin(land_use_of_interest)]\n",
    "v_land_use = land_use[land_use.slug.isin(valais_locs)].copy()\n",
    "r_land_use = land_use[land_use.slug.isin(region_locs)].copy()\n",
    "\n",
    "no_streets = [x for x in land_use_of_interest if x != \"Strasse\"]\n",
    "\n",
    "for i, name in enumerate(ax_s.keys()):\n",
    "    \n",
    "    row = ax_s[name][0]\n",
    "    column = ax_s[name][1]\n",
    "    ax = axs[row, column]\n",
    "    sns.stripplot(data = v_land_use[v_land_use.use == name], y = \"scaled\", color=\"magenta\", zorder=20, size=6, ax=ax)\n",
    "    sns.boxplot(data= r_land_use[r_land_use.use == name], y=\"scaled\",  ax=ax, color='slategray')\n",
    "    ax.set_xticks([0], [land_use_names[name]])\n",
    "    ax.set_ylabel(\"proportion\")\n",
    "\n",
    "axs[1, 4].axis('off')\n",
    "a_space = axs[1, 3]\n",
    "a_space.axis('off')\n",
    "h = [ Line2D([0], [0], marker='o', color='w', label='Scatter', markerfacecolor='magenta', markersize=10), Patch(facecolor='slategray', edgecolor='black', label='Color Patch')]\n",
    "l = [canton, cantons_avoisinante ]\n",
    "a_space.legend(h,l, bbox_to_anchor=(0,1), loc=\"upper left\")\n",
    "\n",
    "plt.tight_layout()\n",
    "plt.subplots_adjust(wspace=.1)\n",
    "plt.show()"
   ]
  },
  {
   "cell_type": "markdown",
   "id": "6bf84ded-25e9-4cd5-9265-f75bd0a2d831",
   "metadata": {
    "editable": true,
    "slideshow": {
     "slide_type": ""
    },
    "tags": []
   },
   "source": [
    "## Résultats des inventaires: pcs/m\n",
    "\n",
    "La densité est calculée en additionnant tous les objets trouvés pour chaque jour et lieu d'échantillonnage. La somme pour chaque échantillon est ensuite divisée par la longueur du rivage, de la rive ou du tronçon de sentier. Pour un exemple, voir le rapport fédéral sur le calcul des lignes de base. [Baselines](https://hammerdirt-analyst.github.io/IQAASL-End-0f-Sampling-2021/baselines.html)."
   ]
  },
  {
   "cell_type": "code",
   "execution_count": 10,
   "id": "70cae240-e3f1-4da4-9081-7212867684e5",
   "metadata": {
    "editable": true,
    "slideshow": {
     "slide_type": ""
    },
    "tags": [
     "remove-input"
    ]
   },
   "outputs": [
    {
     "data": {
      "image/png": "[encoded data removed]",
      "text/plain": [
       "<Figure size 640x480 with 1 Axes>"
      ]
     },
     "metadata": {},
     "output_type": "display_data"
    }
   ],
   "source": [
    "# # make the survey total from the list of available codes\n",
    "vs_jt = valais_all.groupby([\"loc_date\", \"date\", \"zone\"], as_index=False)[\"pcs/m\"].sum()\n",
    "\n",
    "# all other locations\n",
    "# lake\n",
    "lake_jt=not_valais[not_valais.zone == \"lac\"].groupby([\"loc_date\", \"date\"], as_index=False)[\"pcs/m\"].sum()\n",
    "\n",
    "# rivers\n",
    "rhn_jt = not_valais[not_valais.zone == \"rivière\"].groupby([\"loc_date\", \"date\"], as_index=False)[\"pcs/m\"].sum()\n",
    "\n",
    "#alpes\n",
    "alp_jt = not_valais[not_valais.zone == \"montagne\"].groupby([\"loc_date\", \"date\"], as_index=False)[\"pcs/m\"].sum()\n",
    "\n",
    "french_caption = \"La densité totale par échantillon pour les 74 objets d'intérêt. \\\n",
    "Le premier prélèvement en Valais date de 2016. Les prélèvements en rivière \\\n",
    "et en montagne ont été réalisés lors du rapport fédéral.\"\n",
    "\n",
    "fig, ax = plt.subplots()\n",
    "sns.scatterplot(data=vs_jt, x=\"date\", y=\"pcs/m\", hue=\"zone\", zorder=20, palette={'lac':'royalblue', 'montagne':'saddlebrown', 'rivière': 'black'}, ax=ax)\n",
    "sns.scatterplot(data=lake_jt,  x=\"date\", y=\"pcs/m\", zorder=0, color='royalblue', alpha=0.2, ax=ax, label='Le Léman')\n",
    "sns.scatterplot(data=rhn_jt, x=\"date\", y=\"pcs/m\", zorder=1, color='slategray', alpha=0.2, ax=ax, label='Autres rivières')\n",
    "sns.scatterplot(data=alp_jt, x=\"date\", y=\"pcs/m\", zorder=1, color='saddlebrown', alpha=0.2, ax=ax, label='Les Alpes')\n",
    "ax.set_ylim(-1, 60)\n",
    "ax.legend(bbox_to_anchor=(0, 1), loc=\"upper left\", ncol=2)\n",
    "ax.set_xlabel(\"\")\n",
    "plt.show()"
   ]
  },
  {
   "cell_type": "markdown",
   "id": "0efd6c1f-43a3-4c0e-a822-dc523513303f",
   "metadata": {
    "editable": true,
    "slideshow": {
     "slide_type": ""
    },
    "tags": []
   },
   "source": [
    "### Répartition de la densité des déchets\n",
    "\n",
    "__Répartition de la densité des déchets à l'intérieur du canton: pcs/m__"
   ]
  },
  {
   "cell_type": "code",
   "execution_count": 11,
   "id": "b2d39db3-489b-4cab-9be9-08a4dafd4e96",
   "metadata": {
    "editable": true,
    "slideshow": {
     "slide_type": ""
    },
    "tags": [
     "remove-input"
    ]
   },
   "outputs": [
    {
     "data": {
      "text/html": [
       "<style type=\"text/css\">\n",
       "#T_06e30 tr:nth-child(even) {\n",
       "  background-color: rgba(139, 69, 19, 0.08);\n",
       "}\n",
       "#T_06e30 tr:nth-child(odd) {\n",
       "  background: #FFF;\n",
       "}\n",
       "#T_06e30 tr {\n",
       "  font-size: 14px;\n",
       "}\n",
       "#T_06e30 th:nth-child(1) {\n",
       "  background-color: #FFF;\n",
       "  text-align: right;\n",
       "}\n",
       "#T_06e30 caption {\n",
       "  font-size: 14px;\n",
       "  font-style: italic;\n",
       "  caption-side: bottom;\n",
       "  text-align: left;\n",
       "  margin-top: 10px;\n",
       "}\n",
       "#T_06e30_row0_col0 {\n",
       "  background-color: #feeaa0;\n",
       "  color: #000000;\n",
       "}\n",
       "#T_06e30_row0_col1, #T_06e30_row1_col1, #T_06e30_row2_col1, #T_06e30_row3_col1, #T_06e30_row4_col1, #T_06e30_row5_col1, #T_06e30_row6_col1 {\n",
       "  background-color: #ffffe5;\n",
       "  color: #000000;\n",
       "}\n",
       "#T_06e30_row0_col2 {\n",
       "  background-color: #fffcd6;\n",
       "  color: #000000;\n",
       "}\n",
       "#T_06e30_row0_col3 {\n",
       "  background-color: #ffeea9;\n",
       "  color: #000000;\n",
       "}\n",
       "#T_06e30_row1_col0 {\n",
       "  background-color: #fee79a;\n",
       "  color: #000000;\n",
       "}\n",
       "#T_06e30_row1_col2, #T_06e30_row4_col3 {\n",
       "  background-color: #fff9c5;\n",
       "  color: #000000;\n",
       "}\n",
       "#T_06e30_row1_col3 {\n",
       "  background-color: #fee89d;\n",
       "  color: #000000;\n",
       "}\n",
       "#T_06e30_row2_col0, #T_06e30_row2_col2, #T_06e30_row2_col3 {\n",
       "  background-color: #ffffe4;\n",
       "  color: #000000;\n",
       "}\n",
       "#T_06e30_row3_col0 {\n",
       "  background-color: #fffbd3;\n",
       "  color: #000000;\n",
       "}\n",
       "#T_06e30_row3_col2 {\n",
       "  background-color: #fffee2;\n",
       "  color: #000000;\n",
       "}\n",
       "#T_06e30_row3_col3 {\n",
       "  background-color: #fffddd;\n",
       "  color: #000000;\n",
       "}\n",
       "#T_06e30_row4_col0 {\n",
       "  background-color: #fff7bd;\n",
       "  color: #000000;\n",
       "}\n",
       "#T_06e30_row4_col2 {\n",
       "  background-color: #fffee1;\n",
       "  color: #000000;\n",
       "}\n",
       "#T_06e30_row5_col0 {\n",
       "  background-color: #fede86;\n",
       "  color: #000000;\n",
       "}\n",
       "#T_06e30_row5_col2 {\n",
       "  background-color: #fffee0;\n",
       "  color: #000000;\n",
       "}\n",
       "#T_06e30_row5_col3 {\n",
       "  background-color: #fee595;\n",
       "  color: #000000;\n",
       "}\n",
       "#T_06e30_row6_col0, #T_06e30_row6_col3 {\n",
       "  background-color: #662506;\n",
       "  color: #f1f1f1;\n",
       "}\n",
       "#T_06e30_row6_col2 {\n",
       "  background-color: #fed471;\n",
       "  color: #000000;\n",
       "}\n",
       "</style>\n",
       "<table id=\"T_06e30\">\n",
       "  <caption>La répartition de la densité de déchets en Genève selon le domaine d'étude.</caption>\n",
       "  <thead>\n",
       "    <tr>\n",
       "      <th class=\"blank level0\" >&nbsp;</th>\n",
       "      <th id=\"T_06e30_level0_col0\" class=\"col_heading level0 col0\" >Lac</th>\n",
       "      <th id=\"T_06e30_level0_col1\" class=\"col_heading level0 col1\" >Montagne</th>\n",
       "      <th id=\"T_06e30_level0_col2\" class=\"col_heading level0 col2\" >Rhône</th>\n",
       "      <th id=\"T_06e30_level0_col3\" class=\"col_heading level0 col3\" >Genève</th>\n",
       "    </tr>\n",
       "  </thead>\n",
       "  <tbody>\n",
       "    <tr>\n",
       "      <th id=\"T_06e30_level0_row0\" class=\"row_heading level0 row0\" >moyenne</th>\n",
       "      <td id=\"T_06e30_row0_col0\" class=\"data row0 col0\" >3.46</td>\n",
       "      <td id=\"T_06e30_row0_col1\" class=\"data row0 col1\" >0.00</td>\n",
       "      <td id=\"T_06e30_row0_col2\" class=\"data row0 col2\" >0.81</td>\n",
       "      <td id=\"T_06e30_row0_col3\" class=\"data row0 col3\" >3.06</td>\n",
       "    </tr>\n",
       "    <tr>\n",
       "      <th id=\"T_06e30_level0_row1\" class=\"row_heading level0 row1\" >écart-type</th>\n",
       "      <td id=\"T_06e30_row1_col0\" class=\"data row1 col0\" >3.72</td>\n",
       "      <td id=\"T_06e30_row1_col1\" class=\"data row1 col1\" >0.00</td>\n",
       "      <td id=\"T_06e30_row1_col2\" class=\"data row1 col2\" >1.65</td>\n",
       "      <td id=\"T_06e30_row1_col3\" class=\"data row1 col3\" >3.60</td>\n",
       "    </tr>\n",
       "    <tr>\n",
       "      <th id=\"T_06e30_level0_row2\" class=\"row_heading level0 row2\" >min</th>\n",
       "      <td id=\"T_06e30_row2_col0\" class=\"data row2 col0\" >0.13</td>\n",
       "      <td id=\"T_06e30_row2_col1\" class=\"data row2 col1\" >0.00</td>\n",
       "      <td id=\"T_06e30_row2_col2\" class=\"data row2 col2\" >0.11</td>\n",
       "      <td id=\"T_06e30_row2_col3\" class=\"data row2 col3\" >0.11</td>\n",
       "    </tr>\n",
       "    <tr>\n",
       "      <th id=\"T_06e30_level0_row3\" class=\"row_heading level0 row3\" >25%</th>\n",
       "      <td id=\"T_06e30_row3_col0\" class=\"data row3 col0\" >0.98</td>\n",
       "      <td id=\"T_06e30_row3_col1\" class=\"data row3 col1\" >0.00</td>\n",
       "      <td id=\"T_06e30_row3_col2\" class=\"data row3 col2\" >0.19</td>\n",
       "      <td id=\"T_06e30_row3_col3\" class=\"data row3 col3\" >0.44</td>\n",
       "    </tr>\n",
       "    <tr>\n",
       "      <th id=\"T_06e30_level0_row4\" class=\"row_heading level0 row4\" >50%</th>\n",
       "      <td id=\"T_06e30_row4_col0\" class=\"data row4 col0\" >2.04</td>\n",
       "      <td id=\"T_06e30_row4_col1\" class=\"data row4 col1\" >0.00</td>\n",
       "      <td id=\"T_06e30_row4_col2\" class=\"data row4 col2\" >0.25</td>\n",
       "      <td id=\"T_06e30_row4_col3\" class=\"data row4 col3\" >1.69</td>\n",
       "    </tr>\n",
       "    <tr>\n",
       "      <th id=\"T_06e30_level0_row5\" class=\"row_heading level0 row5\" >75%</th>\n",
       "      <td id=\"T_06e30_row5_col0\" class=\"data row5 col0\" >4.51</td>\n",
       "      <td id=\"T_06e30_row5_col1\" class=\"data row5 col1\" >0.00</td>\n",
       "      <td id=\"T_06e30_row5_col2\" class=\"data row5 col2\" >0.30</td>\n",
       "      <td id=\"T_06e30_row5_col3\" class=\"data row5 col3\" >4.04</td>\n",
       "    </tr>\n",
       "    <tr>\n",
       "      <th id=\"T_06e30_level0_row6\" class=\"row_heading level0 row6\" >max</th>\n",
       "      <td id=\"T_06e30_row6_col0\" class=\"data row6 col0\" >16.70</td>\n",
       "      <td id=\"T_06e30_row6_col1\" class=\"data row6 col1\" >0.00</td>\n",
       "      <td id=\"T_06e30_row6_col2\" class=\"data row6 col2\" >5.20</td>\n",
       "      <td id=\"T_06e30_row6_col3\" class=\"data row6 col3\" >16.70</td>\n",
       "    </tr>\n",
       "  </tbody>\n",
       "</table>\n"
      ],
      "text/plain": [
       "<pandas.io.formats.style.Styler at 0x7fe4ba645a90>"
      ]
     },
     "execution_count": 11,
     "metadata": {},
     "output_type": "execute_result"
    }
   ],
   "source": [
    "summaries = {\n",
    "    canton:vs_jt[\"pcs/m\"].describe(),\n",
    "    \"Le Léman\": lake_jt[\"pcs/m\"].describe(),\n",
    "    \"Autres Rivières\":rhn_jt[\"pcs/m\"].describe(),\n",
    "    \"Alpes\": alp_jt[\"pcs/m\"].describe()\n",
    "    \n",
    "}\n",
    "\n",
    "zone_summaries = {\n",
    "    \"Lac\":vs_jt[vs_jt.zone == \"lac\"][\"pcs/m\"].describe(),\n",
    "    \"Montagne\":vs_jt[vs_jt.zone == \"montagne\"][\"pcs/m\"].describe(),\n",
    "    \"Rhône\":vs_jt[vs_jt.zone == \"rivière\"][\"pcs/m\"].describe(),\n",
    "    canton:vs_jt[\"pcs/m\"].describe()\n",
    "}\n",
    "\n",
    "valais_pcsm_total = pd.DataFrame(zone_summaries).fillna(0)\n",
    "valais_pcsm_total = valais_pcsm_total.T\n",
    "valais_pcsm_total[\"count\"] = valais_pcsm_total[\"count\"].astype(\"int\")\n",
    "valais_pcsm_total.rename(columns=display_names, inplace=True)\n",
    "valais_pcsm_total.drop(\"echantillons\", inplace=True, axis=1)\n",
    "valais_pcsm_total = valais_pcsm_total.T\n",
    "\n",
    "english_caption_2 = f\"La répartition de la densité de déchets en {canton} selon le domaine d'étude.\"\n",
    "\n",
    "dis_total = valais_pcsm_total.style.set_table_styles(table_large_font).format(precision=2).set_caption(english_caption_2)\n",
    "dis_total.background_gradient(axis=None, vmin=valais_pcsm_total.min().min(), vmax=valais_pcsm_total.max().max(), cmap=\"YlOrBr\")"
   ]
  },
  {
   "cell_type": "markdown",
   "id": "815a0f3d-d618-4304-ad4b-4e00b30920e0",
   "metadata": {
    "editable": true,
    "slideshow": {
     "slide_type": ""
    },
    "tags": []
   },
   "source": [
    "__Répartition de la densité des déchets à l'extérieur du canton: pcs/m.__"
   ]
  },
  {
   "cell_type": "code",
   "execution_count": 12,
   "id": "5b35919c-10fc-43d5-a213-b017b9b26a41",
   "metadata": {
    "editable": true,
    "slideshow": {
     "slide_type": ""
    },
    "tags": [
     "remove-input"
    ]
   },
   "outputs": [
    {
     "data": {
      "text/html": [
       "<style type=\"text/css\">\n",
       "#T_d8562 tr:nth-child(even) {\n",
       "  background-color: rgba(139, 69, 19, 0.08);\n",
       "}\n",
       "#T_d8562 tr:nth-child(odd) {\n",
       "  background: #FFF;\n",
       "}\n",
       "#T_d8562 tr {\n",
       "  font-size: 14px;\n",
       "}\n",
       "#T_d8562 th:nth-child(1) {\n",
       "  background-color: #FFF;\n",
       "  text-align: right;\n",
       "}\n",
       "#T_d8562 caption {\n",
       "  font-size: 14px;\n",
       "  font-style: italic;\n",
       "  caption-side: bottom;\n",
       "  text-align: left;\n",
       "  margin-top: 10px;\n",
       "}\n",
       "#T_d8562_row0_col0 {\n",
       "  background-color: #fffcd4;\n",
       "  color: #000000;\n",
       "}\n",
       "#T_d8562_row0_col1 {\n",
       "  background-color: #fff9c5;\n",
       "  color: #000000;\n",
       "}\n",
       "#T_d8562_row0_col2, #T_d8562_row1_col2, #T_d8562_row3_col0, #T_d8562_row3_col3, #T_d8562_row4_col2 {\n",
       "  background-color: #ffffe4;\n",
       "  color: #000000;\n",
       "}\n",
       "#T_d8562_row0_col3, #T_d8562_row1_col3, #T_d8562_row5_col3, #T_d8562_row6_col2 {\n",
       "  background-color: #fffee1;\n",
       "  color: #000000;\n",
       "}\n",
       "#T_d8562_row1_col0 {\n",
       "  background-color: #fffbd2;\n",
       "  color: #000000;\n",
       "}\n",
       "#T_d8562_row1_col1 {\n",
       "  background-color: #fff5b8;\n",
       "  color: #000000;\n",
       "}\n",
       "#T_d8562_row2_col0, #T_d8562_row2_col1, #T_d8562_row2_col2, #T_d8562_row2_col3, #T_d8562_row3_col2 {\n",
       "  background-color: #ffffe5;\n",
       "  color: #000000;\n",
       "}\n",
       "#T_d8562_row3_col1 {\n",
       "  background-color: #fffddd;\n",
       "  color: #000000;\n",
       "}\n",
       "#T_d8562_row4_col0 {\n",
       "  background-color: #fffddc;\n",
       "  color: #000000;\n",
       "}\n",
       "#T_d8562_row4_col1 {\n",
       "  background-color: #fffbd3;\n",
       "  color: #000000;\n",
       "}\n",
       "#T_d8562_row4_col3, #T_d8562_row5_col2 {\n",
       "  background-color: #fffee2;\n",
       "  color: #000000;\n",
       "}\n",
       "#T_d8562_row5_col0 {\n",
       "  background-color: #fffbcf;\n",
       "  color: #000000;\n",
       "}\n",
       "#T_d8562_row5_col1 {\n",
       "  background-color: #fff7be;\n",
       "  color: #000000;\n",
       "}\n",
       "#T_d8562_row6_col0 {\n",
       "  background-color: #feda7e;\n",
       "  color: #000000;\n",
       "}\n",
       "#T_d8562_row6_col1 {\n",
       "  background-color: #662506;\n",
       "  color: #f1f1f1;\n",
       "}\n",
       "#T_d8562_row6_col3 {\n",
       "  background-color: #fffcd7;\n",
       "  color: #000000;\n",
       "}\n",
       "</style>\n",
       "<table id=\"T_d8562\">\n",
       "  <caption>La répartition de la densité de déchets en Genève comparé à d'autres localités ayant des domaines d'études similaires</caption>\n",
       "  <thead>\n",
       "    <tr>\n",
       "      <th class=\"blank level0\" >&nbsp;</th>\n",
       "      <th id=\"T_d8562_level0_col0\" class=\"col_heading level0 col0\" >Genève</th>\n",
       "      <th id=\"T_d8562_level0_col1\" class=\"col_heading level0 col1\" >Le Léman</th>\n",
       "      <th id=\"T_d8562_level0_col2\" class=\"col_heading level0 col2\" >Autres Rivières</th>\n",
       "      <th id=\"T_d8562_level0_col3\" class=\"col_heading level0 col3\" >Alpes</th>\n",
       "    </tr>\n",
       "  </thead>\n",
       "  <tbody>\n",
       "    <tr>\n",
       "      <th id=\"T_d8562_level0_row0\" class=\"row_heading level0 row0\" >moyenne</th>\n",
       "      <td id=\"T_d8562_row0_col0\" class=\"data row0 col0\" >3.06</td>\n",
       "      <td id=\"T_d8562_row0_col1\" class=\"data row0 col1\" >5.92</td>\n",
       "      <td id=\"T_d8562_row0_col2\" class=\"data row0 col2\" >0.34</td>\n",
       "      <td id=\"T_d8562_row0_col3\" class=\"data row0 col3\" >0.83</td>\n",
       "    </tr>\n",
       "    <tr>\n",
       "      <th id=\"T_d8562_level0_row1\" class=\"row_heading level0 row1\" >écart-type</th>\n",
       "      <td id=\"T_d8562_row1_col0\" class=\"data row1 col0\" >3.60</td>\n",
       "      <td id=\"T_d8562_row1_col1\" class=\"data row1 col1\" >8.05</td>\n",
       "      <td id=\"T_d8562_row1_col2\" class=\"data row1 col2\" >0.28</td>\n",
       "      <td id=\"T_d8562_row1_col3\" class=\"data row1 col3\" >0.90</td>\n",
       "    </tr>\n",
       "    <tr>\n",
       "      <th id=\"T_d8562_level0_row2\" class=\"row_heading level0 row2\" >min</th>\n",
       "      <td id=\"T_d8562_row2_col0\" class=\"data row2 col0\" >0.11</td>\n",
       "      <td id=\"T_d8562_row2_col1\" class=\"data row2 col1\" >0.02</td>\n",
       "      <td id=\"T_d8562_row2_col2\" class=\"data row2 col2\" >0.00</td>\n",
       "      <td id=\"T_d8562_row2_col3\" class=\"data row2 col3\" >0.07</td>\n",
       "    </tr>\n",
       "    <tr>\n",
       "      <th id=\"T_d8562_level0_row3\" class=\"row_heading level0 row3\" >25%</th>\n",
       "      <td id=\"T_d8562_row3_col0\" class=\"data row3 col0\" >0.44</td>\n",
       "      <td id=\"T_d8562_row3_col1\" class=\"data row3 col1\" >1.54</td>\n",
       "      <td id=\"T_d8562_row3_col2\" class=\"data row3 col2\" >0.08</td>\n",
       "      <td id=\"T_d8562_row3_col3\" class=\"data row3 col3\" >0.24</td>\n",
       "    </tr>\n",
       "    <tr>\n",
       "      <th id=\"T_d8562_level0_row4\" class=\"row_heading level0 row4\" >50%</th>\n",
       "      <td id=\"T_d8562_row4_col0\" class=\"data row4 col0\" >1.69</td>\n",
       "      <td id=\"T_d8562_row4_col1\" class=\"data row4 col1\" >3.36</td>\n",
       "      <td id=\"T_d8562_row4_col2\" class=\"data row4 col2\" >0.38</td>\n",
       "      <td id=\"T_d8562_row4_col3\" class=\"data row4 col3\" >0.50</td>\n",
       "    </tr>\n",
       "    <tr>\n",
       "      <th id=\"T_d8562_level0_row5\" class=\"row_heading level0 row5\" >75%</th>\n",
       "      <td id=\"T_d8562_row5_col0\" class=\"data row5 col0\" >4.04</td>\n",
       "      <td id=\"T_d8562_row5_col1\" class=\"data row5 col1\" >6.93</td>\n",
       "      <td id=\"T_d8562_row5_col2\" class=\"data row5 col2\" >0.49</td>\n",
       "      <td id=\"T_d8562_row5_col3\" class=\"data row5 col3\" >0.88</td>\n",
       "    </tr>\n",
       "    <tr>\n",
       "      <th id=\"T_d8562_level0_row6\" class=\"row_heading level0 row6\" >max</th>\n",
       "      <td id=\"T_d8562_row6_col0\" class=\"data row6 col0\" >16.70</td>\n",
       "      <td id=\"T_d8562_row6_col1\" class=\"data row6 col1\" >58.41</td>\n",
       "      <td id=\"T_d8562_row6_col2\" class=\"data row6 col2\" >0.80</td>\n",
       "      <td id=\"T_d8562_row6_col3\" class=\"data row6 col3\" >2.70</td>\n",
       "    </tr>\n",
       "  </tbody>\n",
       "</table>\n"
      ],
      "text/plain": [
       "<pandas.io.formats.style.Styler at 0x7fe4ba4e0c40>"
      ]
     },
     "execution_count": 12,
     "metadata": {},
     "output_type": "execute_result"
    }
   ],
   "source": [
    "valais_compare = pd.DataFrame(summaries)\n",
    "valais_compare = valais_compare.T\n",
    "valais_compare[\"count\"] = valais_compare[\"count\"].astype(\"int\")\n",
    "valais_compare.rename(columns=display_names, inplace=True)\n",
    "valais_compare.drop(\"echantillons\", inplace=True, axis=1)\n",
    "valais_compare = valais_compare.T\n",
    "\n",
    "english_caption_3 = f\"La répartition de la densité de déchets en {canton} comparé à d'autres localités ayant des domaines d'études similaires\"\n",
    "valais_compare.style.set_table_styles(table_large_font).format(precision=2).set_caption(english_caption_3)\n",
    "dis_total = valais_compare.style.set_table_styles(table_large_font).format(precision=2).set_caption(english_caption_3)\n",
    "dis_total.background_gradient(axis=None, vmin=valais_compare.min().min(), vmax=valais_compare.max().max(), cmap=\"YlOrBr\")"
   ]
  },
  {
   "cell_type": "markdown",
   "id": "9dff034e-a94f-4abd-af22-af0f45ca98cb",
   "metadata": {
    "editable": true,
    "slideshow": {
     "slide_type": ""
    },
    "tags": []
   },
   "source": [
    "__Répartition des objets selon matériel.__"
   ]
  },
  {
   "cell_type": "code",
   "execution_count": 13,
   "id": "8c592827-ec8a-45c6-b646-530dbb177b78",
   "metadata": {
    "editable": true,
    "slideshow": {
     "slide_type": ""
    },
    "tags": [
     "remove-input"
    ]
   },
   "outputs": [
    {
     "data": {
      "text/html": [
       "<style type=\"text/css\">\n",
       "#T_44478 tr:nth-child(even) {\n",
       "  background-color: rgba(139, 69, 19, 0.08);\n",
       "}\n",
       "#T_44478 tr:nth-child(odd) {\n",
       "  background: #FFF;\n",
       "}\n",
       "#T_44478 tr {\n",
       "  font-size: 14px;\n",
       "}\n",
       "#T_44478 th:nth-child(1) {\n",
       "  background-color: #FFF;\n",
       "  text-align: right;\n",
       "}\n",
       "#T_44478 caption {\n",
       "  font-size: 14px;\n",
       "  font-style: italic;\n",
       "  caption-side: bottom;\n",
       "  text-align: left;\n",
       "  margin-top: 10px;\n",
       "}\n",
       "</style>\n",
       "<table id=\"T_44478\">\n",
       "  <caption>Total des objets par type de matériau. Tous les échantillons.</caption>\n",
       "  <thead>\n",
       "    <tr>\n",
       "      <th class=\"blank level0\" >&nbsp;</th>\n",
       "      <th id=\"T_44478_level0_col0\" class=\"col_heading level0 col0\" >quantité</th>\n",
       "      <th id=\"T_44478_level0_col1\" class=\"col_heading level0 col1\" >% de totale</th>\n",
       "    </tr>\n",
       "  </thead>\n",
       "  <tbody>\n",
       "    <tr>\n",
       "      <th id=\"T_44478_level0_row0\" class=\"row_heading level0 row0\" >Plastique</th>\n",
       "      <td id=\"T_44478_row0_col0\" class=\"data row0 col0\" >8,913</td>\n",
       "      <td id=\"T_44478_row0_col1\" class=\"data row0 col1\" >1.0</td>\n",
       "    </tr>\n",
       "  </tbody>\n",
       "</table>\n"
      ],
      "text/plain": [
       "<pandas.io.formats.style.Styler at 0x7fe4ba4637f0>"
      ]
     },
     "execution_count": 13,
     "metadata": {},
     "output_type": "execute_result"
    }
   ],
   "source": [
    "dfCodes = pd.read_csv(\"resources/codes.csv\")\n",
    "dfCodes.set_index(\"code\", drop=True, inplace=True)\n",
    "dfCodes.loc[\"Gcaps\", [\"material\", \"description\", \"parent_code\", \"groupname\"]] = \"Plastic\", \"Plastic bottle tops\", \"Parent code\", 'food and drink'\n",
    "\n",
    "code_d = dfCodes[\"description\"]\n",
    "code_m = dfCodes[\"material\"]\n",
    "code_g = dfCodes[\"groupname\"]\n",
    "\n",
    "caption_material_fr = \"Total des objets par type de matériau. Tous les échantillons.\"\n",
    "\n",
    "valais_all[\"material\"] = valais_all.code.apply(lambda x: code_m.loc[x])\n",
    "material_totals = valais_all.groupby(\"material\", as_index=False).quantity.sum()\n",
    "material_totals[\"quantity\"] = material_totals.quantity.astype(int)\n",
    "material_totals[\"material\"] = material_totals.material.apply(lambda x: material_names[x])\n",
    "material_totals[\"q_weight\"] = (material_totals.quantity/material_totals.quantity.sum()).round(3)\n",
    "material_totals = material_totals.set_index(\"material\", drop=True)\n",
    "material_totals.sort_values(by=\"quantity\", ascending=False, inplace=True)\n",
    "material_totals.index.name = None\n",
    "material_totals.rename(columns=display_names).style.set_table_styles(table_large_font).format('{:,}').set_caption(caption_material_fr)"
   ]
  },
  {
   "cell_type": "markdown",
   "id": "004331c7-5926-4791-95b7-20a996b35003",
   "metadata": {
    "editable": true,
    "slideshow": {
     "slide_type": ""
    },
    "tags": []
   },
   "source": [
    "### Objets d'intérêt résultats municipaux: pcs/m"
   ]
  },
  {
   "cell_type": "code",
   "execution_count": 14,
   "id": "1bc5978f-01ab-487f-a016-33953670a1c7",
   "metadata": {
    "editable": true,
    "slideshow": {
     "slide_type": ""
    },
    "tags": [
     "remove-input"
    ]
   },
   "outputs": [
    {
     "data": {
      "text/html": [
       "<style type=\"text/css\">\n",
       "#T_9addc tr:nth-child(even) {\n",
       "  background-color: rgba(139, 69, 19, 0.08);\n",
       "}\n",
       "#T_9addc tr:nth-child(odd) {\n",
       "  background: #FFF;\n",
       "}\n",
       "#T_9addc tr {\n",
       "  font-size: 14px;\n",
       "}\n",
       "#T_9addc th:nth-child(1) {\n",
       "  background-color: #FFF;\n",
       "  text-align: right;\n",
       "}\n",
       "#T_9addc caption {\n",
       "  font-size: 14px;\n",
       "  font-style: italic;\n",
       "  caption-side: bottom;\n",
       "  text-align: left;\n",
       "  margin-top: 10px;\n",
       "}\n",
       "#T_9addc_row0_col0 {\n",
       "  background-color: #fff3b4;\n",
       "  color: #000000;\n",
       "}\n",
       "#T_9addc_row0_col1, #T_9addc_row0_col2, #T_9addc_row0_col4, #T_9addc_row1_col1, #T_9addc_row1_col4, #T_9addc_row2_col1, #T_9addc_row3_col1, #T_9addc_row4_col1, #T_9addc_row4_col2, #T_9addc_row5_col4, #T_9addc_row7_col1, #T_9addc_row7_col2, #T_9addc_row7_col4, #T_9addc_row8_col4, #T_9addc_row9_col1, #T_9addc_row9_col4 {\n",
       "  background-color: #ffffe5;\n",
       "  color: #000000;\n",
       "}\n",
       "#T_9addc_row0_col3 {\n",
       "  background-color: #fffbd0;\n",
       "  color: #000000;\n",
       "}\n",
       "#T_9addc_row1_col0, #T_9addc_row1_col2, #T_9addc_row9_col2 {\n",
       "  background-color: #fffee1;\n",
       "  color: #000000;\n",
       "}\n",
       "#T_9addc_row1_col3, #T_9addc_row4_col0, #T_9addc_row4_col4, #T_9addc_row5_col1 {\n",
       "  background-color: #fffee0;\n",
       "  color: #000000;\n",
       "}\n",
       "#T_9addc_row2_col0, #T_9addc_row6_col4 {\n",
       "  background-color: #fff9c9;\n",
       "  color: #000000;\n",
       "}\n",
       "#T_9addc_row2_col2 {\n",
       "  background-color: #fff9c6;\n",
       "  color: #000000;\n",
       "}\n",
       "#T_9addc_row2_col3, #T_9addc_row5_col2 {\n",
       "  background-color: #fee89b;\n",
       "  color: #000000;\n",
       "}\n",
       "#T_9addc_row2_col4, #T_9addc_row4_col3 {\n",
       "  background-color: #ffffe4;\n",
       "  color: #000000;\n",
       "}\n",
       "#T_9addc_row3_col0 {\n",
       "  background-color: #fff7be;\n",
       "  color: #000000;\n",
       "}\n",
       "#T_9addc_row3_col2 {\n",
       "  background-color: #fffaca;\n",
       "  color: #000000;\n",
       "}\n",
       "#T_9addc_row3_col3 {\n",
       "  background-color: #fff1ae;\n",
       "  color: #000000;\n",
       "}\n",
       "#T_9addc_row3_col4, #T_9addc_row7_col3 {\n",
       "  background-color: #fffcd6;\n",
       "  color: #000000;\n",
       "}\n",
       "#T_9addc_row5_col0 {\n",
       "  background-color: #fed16b;\n",
       "  color: #000000;\n",
       "}\n",
       "#T_9addc_row5_col3 {\n",
       "  background-color: #fee18c;\n",
       "  color: #000000;\n",
       "}\n",
       "#T_9addc_row6_col0 {\n",
       "  background-color: #fa9125;\n",
       "  color: #f1f1f1;\n",
       "}\n",
       "#T_9addc_row6_col1 {\n",
       "  background-color: #ffeea9;\n",
       "  color: #000000;\n",
       "}\n",
       "#T_9addc_row6_col2 {\n",
       "  background-color: #fed676;\n",
       "  color: #000000;\n",
       "}\n",
       "#T_9addc_row6_col3, #T_9addc_row8_col1 {\n",
       "  background-color: #fee89d;\n",
       "  color: #000000;\n",
       "}\n",
       "#T_9addc_row7_col0 {\n",
       "  background-color: #fff7bc;\n",
       "  color: #000000;\n",
       "}\n",
       "#T_9addc_row8_col0 {\n",
       "  background-color: #d95b09;\n",
       "  color: #f1f1f1;\n",
       "}\n",
       "#T_9addc_row8_col2 {\n",
       "  background-color: #f07818;\n",
       "  color: #f1f1f1;\n",
       "}\n",
       "#T_9addc_row8_col3 {\n",
       "  background-color: #662506;\n",
       "  color: #f1f1f1;\n",
       "}\n",
       "#T_9addc_row9_col0 {\n",
       "  background-color: #f88a21;\n",
       "  color: #f1f1f1;\n",
       "}\n",
       "#T_9addc_row9_col3 {\n",
       "  background-color: #fffcd7;\n",
       "  color: #000000;\n",
       "}\n",
       "#T_9addc_level0_col0, #T_9addc_level0_col1, #T_9addc_level0_col2, #T_9addc_level0_col3, #T_9addc_level0_col4 {\n",
       "  writing-mode: vertical-lr;\n",
       "  transform: rotate(-180deg);\n",
       "  padding: 10px;\n",
       "  margins: 0;\n",
       "  vertical-align: baseline;\n",
       "}\n",
       "</style>\n",
       "<table id=\"T_9addc\">\n",
       "  <thead>\n",
       "    <tr>\n",
       "      <th class=\"blank level0\" >&nbsp;</th>\n",
       "      <th id=\"T_9addc_level0_col0\" class=\"col_heading level0 col0\" >Genève</th>\n",
       "      <th id=\"T_9addc_level0_col1\" class=\"col_heading level0 col1\" >Hermance</th>\n",
       "      <th id=\"T_9addc_level0_col2\" class=\"col_heading level0 col2\" >Savonière</th>\n",
       "      <th id=\"T_9addc_level0_col3\" class=\"col_heading level0 col3\" >Versoix</th>\n",
       "      <th id=\"T_9addc_level0_col4\" class=\"col_heading level0 col4\" >Veyrier</th>\n",
       "    </tr>\n",
       "  </thead>\n",
       "  <tbody>\n",
       "    <tr>\n",
       "      <th id=\"T_9addc_level0_row0\" class=\"row_heading level0 row0\" >Bâche, feuille plastique industrielle</th>\n",
       "      <td id=\"T_9addc_row0_col0\" class=\"data row0 col0\" >0.24</td>\n",
       "      <td id=\"T_9addc_row0_col1\" class=\"data row0 col1\" >0.0</td>\n",
       "      <td id=\"T_9addc_row0_col2\" class=\"data row0 col2\" >0.0</td>\n",
       "      <td id=\"T_9addc_row0_col3\" class=\"data row0 col3\" >0.1</td>\n",
       "      <td id=\"T_9addc_row0_col4\" class=\"data row0 col4\" >0.0</td>\n",
       "    </tr>\n",
       "    <tr>\n",
       "      <th id=\"T_9addc_level0_row1\" class=\"row_heading level0 row1\" >Cartouches de fusil de chasse</th>\n",
       "      <td id=\"T_9addc_row1_col0\" class=\"data row1 col0\" >0.02</td>\n",
       "      <td id=\"T_9addc_row1_col1\" class=\"data row1 col1\" >0.0</td>\n",
       "      <td id=\"T_9addc_row1_col2\" class=\"data row1 col2\" >0.02</td>\n",
       "      <td id=\"T_9addc_row1_col3\" class=\"data row1 col3\" >0.03</td>\n",
       "      <td id=\"T_9addc_row1_col4\" class=\"data row1 col4\" >0.0</td>\n",
       "    </tr>\n",
       "    <tr>\n",
       "      <th id=\"T_9addc_level0_row2\" class=\"row_heading level0 row2\" >Coton-tige</th>\n",
       "      <td id=\"T_9addc_row2_col0\" class=\"data row2 col0\" >0.14</td>\n",
       "      <td id=\"T_9addc_row2_col1\" class=\"data row2 col1\" >0.0</td>\n",
       "      <td id=\"T_9addc_row2_col2\" class=\"data row2 col2\" >0.15</td>\n",
       "      <td id=\"T_9addc_row2_col3\" class=\"data row2 col3\" >0.35</td>\n",
       "      <td id=\"T_9addc_row2_col4\" class=\"data row2 col4\" >0.01</td>\n",
       "    </tr>\n",
       "    <tr>\n",
       "      <th id=\"T_9addc_level0_row3\" class=\"row_heading level0 row3\" >Couvercles de bouteilles en plastique</th>\n",
       "      <td id=\"T_9addc_row3_col0\" class=\"data row3 col0\" >0.19</td>\n",
       "      <td id=\"T_9addc_row3_col1\" class=\"data row3 col1\" >0.0</td>\n",
       "      <td id=\"T_9addc_row3_col2\" class=\"data row3 col2\" >0.13</td>\n",
       "      <td id=\"T_9addc_row3_col3\" class=\"data row3 col3\" >0.26</td>\n",
       "      <td id=\"T_9addc_row3_col4\" class=\"data row3 col4\" >0.08</td>\n",
       "    </tr>\n",
       "    <tr>\n",
       "      <th id=\"T_9addc_level0_row4\" class=\"row_heading level0 row4\" >Emballage fast food</th>\n",
       "      <td id=\"T_9addc_row4_col0\" class=\"data row4 col0\" >0.03</td>\n",
       "      <td id=\"T_9addc_row4_col1\" class=\"data row4 col1\" >0.0</td>\n",
       "      <td id=\"T_9addc_row4_col2\" class=\"data row4 col2\" >0.0</td>\n",
       "      <td id=\"T_9addc_row4_col3\" class=\"data row4 col3\" >0.01</td>\n",
       "      <td id=\"T_9addc_row4_col4\" class=\"data row4 col4\" >0.03</td>\n",
       "    </tr>\n",
       "    <tr>\n",
       "      <th id=\"T_9addc_level0_row5\" class=\"row_heading level0 row5\" >Emballages de bonbons, de snacks</th>\n",
       "      <td id=\"T_9addc_row5_col0\" class=\"data row5 col0\" >0.51</td>\n",
       "      <td id=\"T_9addc_row5_col1\" class=\"data row5 col1\" >0.03</td>\n",
       "      <td id=\"T_9addc_row5_col2\" class=\"data row5 col2\" >0.35</td>\n",
       "      <td id=\"T_9addc_row5_col3\" class=\"data row5 col3\" >0.41</td>\n",
       "      <td id=\"T_9addc_row5_col4\" class=\"data row5 col4\" >0.0</td>\n",
       "    </tr>\n",
       "    <tr>\n",
       "      <th id=\"T_9addc_level0_row6\" class=\"row_heading level0 row6\" >Mégots et filtres à cigarettes</th>\n",
       "      <td id=\"T_9addc_row6_col0\" class=\"data row6 col0\" >0.83</td>\n",
       "      <td id=\"T_9addc_row6_col1\" class=\"data row6 col1\" >0.29</td>\n",
       "      <td id=\"T_9addc_row6_col2\" class=\"data row6 col2\" >0.48</td>\n",
       "      <td id=\"T_9addc_row6_col3\" class=\"data row6 col3\" >0.34</td>\n",
       "      <td id=\"T_9addc_row6_col4\" class=\"data row6 col4\" >0.14</td>\n",
       "    </tr>\n",
       "    <tr>\n",
       "      <th id=\"T_9addc_level0_row7\" class=\"row_heading level0 row7\" >Pellets industriels (GPI)</th>\n",
       "      <td id=\"T_9addc_row7_col0\" class=\"data row7 col0\" >0.2</td>\n",
       "      <td id=\"T_9addc_row7_col1\" class=\"data row7 col1\" >0.0</td>\n",
       "      <td id=\"T_9addc_row7_col2\" class=\"data row7 col2\" >0.0</td>\n",
       "      <td id=\"T_9addc_row7_col3\" class=\"data row7 col3\" >0.08</td>\n",
       "      <td id=\"T_9addc_row7_col4\" class=\"data row7 col4\" >0.0</td>\n",
       "    </tr>\n",
       "    <tr>\n",
       "      <th id=\"T_9addc_level0_row8\" class=\"row_heading level0 row8\" >Plastiques fragmentés</th>\n",
       "      <td id=\"T_9addc_row8_col0\" class=\"data row8 col0\" >1.1</td>\n",
       "      <td id=\"T_9addc_row8_col1\" class=\"data row8 col1\" >0.34</td>\n",
       "      <td id=\"T_9addc_row8_col2\" class=\"data row8 col2\" >0.95</td>\n",
       "      <td id=\"T_9addc_row8_col3\" class=\"data row8 col3\" >1.58</td>\n",
       "      <td id=\"T_9addc_row8_col4\" class=\"data row8 col4\" >0.0</td>\n",
       "    </tr>\n",
       "    <tr>\n",
       "      <th id=\"T_9addc_level0_row9\" class=\"row_heading level0 row9\" >Polystyrène expansé fragmenté</th>\n",
       "      <td id=\"T_9addc_row9_col0\" class=\"data row9 col0\" >0.86</td>\n",
       "      <td id=\"T_9addc_row9_col1\" class=\"data row9 col1\" >0.0</td>\n",
       "      <td id=\"T_9addc_row9_col2\" class=\"data row9 col2\" >0.02</td>\n",
       "      <td id=\"T_9addc_row9_col3\" class=\"data row9 col3\" >0.07</td>\n",
       "      <td id=\"T_9addc_row9_col4\" class=\"data row9 col4\" >0.0</td>\n",
       "    </tr>\n",
       "  </tbody>\n",
       "</table>\n"
      ],
      "text/plain": [
       "<pandas.io.formats.style.Styler at 0x7fe4ba69bd90>"
      ]
     },
     "execution_count": 14,
     "metadata": {},
     "output_type": "execute_result"
    }
   ],
   "source": [
    "objects_city = valais_all[valais_all.code.isin(codes_of_interest)].groupby([\"city\",\"code\"], as_index=False)[\"pcs/m\"].mean()\n",
    "objects_city[\"object\"] = objects_city.code.apply(lambda x: french_names[x])\n",
    "municipal_results = objects_city.pivot(columns=\"city\", index=\"object\", values=\"pcs/m\").fillna(0)\n",
    "municipal_results = municipal_results.round(2)\n",
    "municipal_results.index.name = None\n",
    "municipal_results.columns.name = None\n",
    "dist = municipal_results.style.set_table_styles(table_large_font).format('{:,}').applymap_index(rotateText, axis=1)\n",
    "dist.background_gradient(axis=None, vmin= municipal_results.min().min(), vmax= municipal_results.max().max(), cmap=\"YlOrBr\")"
   ]
  },
  {
   "cell_type": "markdown",
   "id": "488e32ba-dc11-4bc4-8ad1-136a240a4a4e",
   "metadata": {
    "editable": true,
    "slideshow": {
     "slide_type": ""
    },
    "tags": []
   },
   "source": [
    "### Résultats par utilité d'objet: pcs/m"
   ]
  },
  {
   "cell_type": "markdown",
   "id": "4383ec10-a952-4a2d-83aa-9c3eccf96255",
   "metadata": {
    "editable": true,
    "slideshow": {
     "slide_type": ""
    },
    "tags": []
   },
   "source": [
    "L'utilité d'un objet est basée sur l'utilisation de l'objet avant qu'il ne soit jeté ou sur la description de l'objet si l'utilisation d'origine n'est pas déterminée. \n",
    "\n",
    "* __eaux usées :__ objets rejetés par les stations d'épuration des eaux, y compris les objets susceptibles d'être jetés dans les toilettes\n",
    "* __microplastiques (< 5 mm) :__ plastiques fragmentés et résines plastiques de préproduction\n",
    "* __infrastructures :__ éléments liés à la construction et à l'entretien des bâtiments, des routes et de l'approvisionnement en eau et en électricité\n",
    "* __alimentation et boissons :__ tous les matériaux liés à la consommation d'aliments et de boissons\n",
    "* __agriculture :__ principalement les feuilles industrielles, c'est-à-dire le paillage et les couvertures de rangs, les serres, la fumigation des sols, l'enrubannage des balles. Comprend les plastiques durs pour les clôtures agricoles, les pots de fleurs, etc.\n",
    "* __tabac :__ principalement les filtres de cigarettes, y compris tout le matériel lié au tabagisme\n",
    "* __Loisirs :__ objets liés aux sports et aux loisirs, tels que la pêche, la chasse, la randonnée, etc.\n",
    "* __Emballages non alimentaires et boissons :__ matériaux d'emballage non identifiés comme étant liés à l'alimentation, aux boissons ou au tabac.\n",
    "* __fragments de plastique :__ morceaux de plastique d'origine ou d'utilisation indéterminée\n",
    "* __articles personnels :__ accessoires, hygiène et vêtements"
   ]
  },
  {
   "cell_type": "code",
   "execution_count": 15,
   "id": "6f321bbd-8c1b-4b02-93e0-8e3352758288",
   "metadata": {
    "editable": true,
    "slideshow": {
     "slide_type": ""
    },
    "tags": [
     "remove-input"
    ]
   },
   "outputs": [
    {
     "data": {
      "text/html": [
       "<style type=\"text/css\">\n",
       "#T_550ea tr:nth-child(even) {\n",
       "  background-color: rgba(139, 69, 19, 0.08);\n",
       "}\n",
       "#T_550ea tr:nth-child(odd) {\n",
       "  background: #FFF;\n",
       "}\n",
       "#T_550ea tr {\n",
       "  font-size: 14px;\n",
       "}\n",
       "#T_550ea th:nth-child(1) {\n",
       "  background-color: #FFF;\n",
       "  text-align: right;\n",
       "}\n",
       "#T_550ea caption {\n",
       "  font-size: 14px;\n",
       "  font-style: italic;\n",
       "  caption-side: bottom;\n",
       "  text-align: left;\n",
       "  margin-top: 10px;\n",
       "}\n",
       "#T_550ea_row0_col0, #T_550ea_row4_col2, #T_550ea_row4_col3, #T_550ea_row5_col3, #T_550ea_row6_col3 {\n",
       "  background-color: #fffee1;\n",
       "  color: #000000;\n",
       "}\n",
       "#T_550ea_row0_col1, #T_550ea_row0_col2, #T_550ea_row0_col4, #T_550ea_row2_col1, #T_550ea_row2_col4, #T_550ea_row3_col4, #T_550ea_row4_col1, #T_550ea_row4_col4, #T_550ea_row5_col0, #T_550ea_row5_col1, #T_550ea_row5_col4, #T_550ea_row6_col0, #T_550ea_row6_col1, #T_550ea_row6_col2, #T_550ea_row6_col4 {\n",
       "  background-color: #ffffe5;\n",
       "  color: #000000;\n",
       "}\n",
       "#T_550ea_row0_col3, #T_550ea_row1_col1 {\n",
       "  background-color: #fffee0;\n",
       "  color: #000000;\n",
       "}\n",
       "#T_550ea_row1_col0 {\n",
       "  background-color: #fee99e;\n",
       "  color: #000000;\n",
       "}\n",
       "#T_550ea_row1_col2, #T_550ea_row1_col3 {\n",
       "  background-color: #fedb80;\n",
       "  color: #000000;\n",
       "}\n",
       "#T_550ea_row1_col4 {\n",
       "  background-color: #fffbcf;\n",
       "  color: #000000;\n",
       "}\n",
       "#T_550ea_row2_col0 {\n",
       "  background-color: #fffddd;\n",
       "  color: #000000;\n",
       "}\n",
       "#T_550ea_row2_col2 {\n",
       "  background-color: #fff9c7;\n",
       "  color: #000000;\n",
       "}\n",
       "#T_550ea_row2_col3 {\n",
       "  background-color: #feeaa1;\n",
       "  color: #000000;\n",
       "}\n",
       "#T_550ea_row3_col0 {\n",
       "  background-color: #fe9b2b;\n",
       "  color: #000000;\n",
       "}\n",
       "#T_550ea_row3_col1 {\n",
       "  background-color: #fff2b1;\n",
       "  color: #000000;\n",
       "}\n",
       "#T_550ea_row3_col2 {\n",
       "  background-color: #fe9e2d;\n",
       "  color: #000000;\n",
       "}\n",
       "#T_550ea_row3_col3 {\n",
       "  background-color: #662506;\n",
       "  color: #f1f1f1;\n",
       "}\n",
       "#T_550ea_row4_col0 {\n",
       "  background-color: #fffbd0;\n",
       "  color: #000000;\n",
       "}\n",
       "#T_550ea_row5_col2 {\n",
       "  background-color: #ffffe4;\n",
       "  color: #000000;\n",
       "}\n",
       "#T_550ea_row7_col0 {\n",
       "  background-color: #fed778;\n",
       "  color: #000000;\n",
       "}\n",
       "#T_550ea_row7_col1 {\n",
       "  background-color: #fffacd;\n",
       "  color: #000000;\n",
       "}\n",
       "#T_550ea_row7_col2 {\n",
       "  background-color: #fff7be;\n",
       "  color: #000000;\n",
       "}\n",
       "#T_550ea_row7_col3 {\n",
       "  background-color: #fee596;\n",
       "  color: #000000;\n",
       "}\n",
       "#T_550ea_row7_col4 {\n",
       "  background-color: #fffdd9;\n",
       "  color: #000000;\n",
       "}\n",
       "#T_550ea_level0_col0, #T_550ea_level0_col1, #T_550ea_level0_col2, #T_550ea_level0_col3, #T_550ea_level0_col4 {\n",
       "  writing-mode: vertical-lr;\n",
       "  transform: rotate(-180deg);\n",
       "  padding: 10px;\n",
       "  margins: 0;\n",
       "  vertical-align: baseline;\n",
       "}\n",
       "</style>\n",
       "<table id=\"T_550ea\">\n",
       "  <thead>\n",
       "    <tr>\n",
       "      <th class=\"blank level0\" >&nbsp;</th>\n",
       "      <th id=\"T_550ea_level0_col0\" class=\"col_heading level0 col0\" >Genève</th>\n",
       "      <th id=\"T_550ea_level0_col1\" class=\"col_heading level0 col1\" >Hermance</th>\n",
       "      <th id=\"T_550ea_level0_col2\" class=\"col_heading level0 col2\" >Savonière</th>\n",
       "      <th id=\"T_550ea_level0_col3\" class=\"col_heading level0 col3\" >Versoix</th>\n",
       "      <th id=\"T_550ea_level0_col4\" class=\"col_heading level0 col4\" >Veyrier</th>\n",
       "    </tr>\n",
       "  </thead>\n",
       "  <tbody>\n",
       "    <tr>\n",
       "      <th id=\"T_550ea_level0_row0\" class=\"row_heading level0 row0\" >agriculture</th>\n",
       "      <td id=\"T_550ea_row0_col0\" class=\"data row0 col0\" >0.02</td>\n",
       "      <td id=\"T_550ea_row0_col1\" class=\"data row0 col1\" >0.0</td>\n",
       "      <td id=\"T_550ea_row0_col2\" class=\"data row0 col2\" >0.0</td>\n",
       "      <td id=\"T_550ea_row0_col3\" class=\"data row0 col3\" >0.03</td>\n",
       "      <td id=\"T_550ea_row0_col4\" class=\"data row0 col4\" >0.0</td>\n",
       "    </tr>\n",
       "    <tr>\n",
       "      <th id=\"T_550ea_level0_row1\" class=\"row_heading level0 row1\" >alimentation et boissons</th>\n",
       "      <td id=\"T_550ea_row1_col0\" class=\"data row1 col0\" >0.34</td>\n",
       "      <td id=\"T_550ea_row1_col1\" class=\"data row1 col1\" >0.03</td>\n",
       "      <td id=\"T_550ea_row1_col2\" class=\"data row1 col2\" >0.45</td>\n",
       "      <td id=\"T_550ea_row1_col3\" class=\"data row1 col3\" >0.45</td>\n",
       "      <td id=\"T_550ea_row1_col4\" class=\"data row1 col4\" >0.11</td>\n",
       "    </tr>\n",
       "    <tr>\n",
       "      <th id=\"T_550ea_level0_row2\" class=\"row_heading level0 row2\" >eaux usées</th>\n",
       "      <td id=\"T_550ea_row2_col0\" class=\"data row2 col0\" >0.04</td>\n",
       "      <td id=\"T_550ea_row2_col1\" class=\"data row2 col1\" >0.0</td>\n",
       "      <td id=\"T_550ea_row2_col2\" class=\"data row2 col2\" >0.15</td>\n",
       "      <td id=\"T_550ea_row2_col3\" class=\"data row2 col3\" >0.33</td>\n",
       "      <td id=\"T_550ea_row2_col4\" class=\"data row2 col4\" >0.0</td>\n",
       "    </tr>\n",
       "    <tr>\n",
       "      <th id=\"T_550ea_level0_row3\" class=\"row_heading level0 row3\" >fragments de plastique</th>\n",
       "      <td id=\"T_550ea_row3_col0\" class=\"data row3 col0\" >0.79</td>\n",
       "      <td id=\"T_550ea_row3_col1\" class=\"data row3 col1\" >0.25</td>\n",
       "      <td id=\"T_550ea_row3_col2\" class=\"data row3 col2\" >0.78</td>\n",
       "      <td id=\"T_550ea_row3_col3\" class=\"data row3 col3\" >1.6</td>\n",
       "      <td id=\"T_550ea_row3_col4\" class=\"data row3 col4\" >0.0</td>\n",
       "    </tr>\n",
       "    <tr>\n",
       "      <th id=\"T_550ea_level0_row4\" class=\"row_heading level0 row4\" >infrastructures</th>\n",
       "      <td id=\"T_550ea_row4_col0\" class=\"data row4 col0\" >0.1</td>\n",
       "      <td id=\"T_550ea_row4_col1\" class=\"data row4 col1\" >0.0</td>\n",
       "      <td id=\"T_550ea_row4_col2\" class=\"data row4 col2\" >0.02</td>\n",
       "      <td id=\"T_550ea_row4_col3\" class=\"data row4 col3\" >0.02</td>\n",
       "      <td id=\"T_550ea_row4_col4\" class=\"data row4 col4\" >0.0</td>\n",
       "    </tr>\n",
       "    <tr>\n",
       "      <th id=\"T_550ea_level0_row5\" class=\"row_heading level0 row5\" >loisirs</th>\n",
       "      <td id=\"T_550ea_row5_col0\" class=\"data row5 col0\" >0.0</td>\n",
       "      <td id=\"T_550ea_row5_col1\" class=\"data row5 col1\" >0.0</td>\n",
       "      <td id=\"T_550ea_row5_col2\" class=\"data row5 col2\" >0.01</td>\n",
       "      <td id=\"T_550ea_row5_col3\" class=\"data row5 col3\" >0.02</td>\n",
       "      <td id=\"T_550ea_row5_col4\" class=\"data row5 col4\" >0.0</td>\n",
       "    </tr>\n",
       "    <tr>\n",
       "      <th id=\"T_550ea_level0_row6\" class=\"row_heading level0 row6\" >microplastiques (< 5 mm)</th>\n",
       "      <td id=\"T_550ea_row6_col0\" class=\"data row6 col0\" >0.0</td>\n",
       "      <td id=\"T_550ea_row6_col1\" class=\"data row6 col1\" >0.0</td>\n",
       "      <td id=\"T_550ea_row6_col2\" class=\"data row6 col2\" >0.0</td>\n",
       "      <td id=\"T_550ea_row6_col3\" class=\"data row6 col3\" >0.02</td>\n",
       "      <td id=\"T_550ea_row6_col4\" class=\"data row6 col4\" >0.0</td>\n",
       "    </tr>\n",
       "    <tr>\n",
       "      <th id=\"T_550ea_level0_row7\" class=\"row_heading level0 row7\" >tabac</th>\n",
       "      <td id=\"T_550ea_row7_col0\" class=\"data row7 col0\" >0.48</td>\n",
       "      <td id=\"T_550ea_row7_col1\" class=\"data row7 col1\" >0.12</td>\n",
       "      <td id=\"T_550ea_row7_col2\" class=\"data row7 col2\" >0.19</td>\n",
       "      <td id=\"T_550ea_row7_col3\" class=\"data row7 col3\" >0.38</td>\n",
       "      <td id=\"T_550ea_row7_col4\" class=\"data row7 col4\" >0.06</td>\n",
       "    </tr>\n",
       "  </tbody>\n",
       "</table>\n"
      ],
      "text/plain": [
       "<pandas.io.formats.style.Styler at 0x7fe4ba3dd370>"
      ]
     },
     "execution_count": 15,
     "metadata": {},
     "output_type": "execute_result"
    }
   ],
   "source": [
    "valais_all[\"groupname\"] = valais_all.code.apply(lambda x: code_g.loc[x])\n",
    "\n",
    "cg_agg = valais_all.groupby([\"loc_date\", \"city\", \"groupname\"], as_index=False)[\"pcs/m\"].sum()\n",
    "cg_agg[\"groupname\"] = cg_agg.groupname.apply(lambda x: group_names[x])\n",
    "cg_agg_group = cg_agg.groupby([\"city\",\"groupname\"], as_index=False)[\"pcs/m\"].median()\n",
    "\n",
    "cg_display = cg_agg_group.pivot(columns=\"city\", index=\"groupname\", values=[\"pcs/m\"])\n",
    "cg_display=cg_display.round(2)\n",
    "cg_display.index.name = None\n",
    "cg_display.columns = cg_display.columns.droplevel()\n",
    "cg_display.fillna(0, inplace=True)\n",
    "cg_display.columns.name = None\n",
    "\n",
    "dist = cg_display.style.set_table_styles(table_large_font).format('{:,}').applymap_index(rotateText, axis=1)\n",
    "dist.background_gradient(axis=None, vmin=cg_display.min().min(), vmax= cg_display.max().max(), cmap=\"YlOrBr\")"
   ]
  },
  {
   "cell_type": "markdown",
   "id": "6b980747-c52a-4f2d-b936-d7bc8c2e1a55",
   "metadata": {
    "editable": true,
    "slideshow": {
     "slide_type": ""
    },
    "tags": []
   },
   "source": [
    "## Lieux d'enquêtes"
   ]
  },
  {
   "cell_type": "code",
   "execution_count": 16,
   "id": "873c291a-19f7-4654-8e3a-fbfbfd809b47",
   "metadata": {
    "editable": true,
    "slideshow": {
     "slide_type": ""
    },
    "tags": [
     "remove-input"
    ]
   },
   "outputs": [
    {
     "data": {
      "text/html": [
       "<style type=\"text/css\">\n",
       "#T_71ed3 tr:nth-child(even) {\n",
       "  background-color: rgba(139, 69, 19, 0.08);\n",
       "}\n",
       "#T_71ed3 tr:nth-child(odd) {\n",
       "  background: #FFF;\n",
       "}\n",
       "#T_71ed3 tr {\n",
       "  font-size: 14px;\n",
       "}\n",
       "#T_71ed3 th:nth-child(1) {\n",
       "  background-color: #FFF;\n",
       "  text-align: right;\n",
       "}\n",
       "#T_71ed3 caption {\n",
       "  font-size: 14px;\n",
       "  font-style: italic;\n",
       "  caption-side: bottom;\n",
       "  text-align: left;\n",
       "  margin-top: 10px;\n",
       "}\n",
       "</style>\n",
       "<table id=\"T_71ed3\">\n",
       "  <thead>\n",
       "    <tr>\n",
       "      <th class=\"blank level0\" >&nbsp;</th>\n",
       "      <th id=\"T_71ed3_level0_col0\" class=\"col_heading level0 col0\" >city</th>\n",
       "      <th id=\"T_71ed3_level0_col1\" class=\"col_heading level0 col1\" >zone</th>\n",
       "    </tr>\n",
       "  </thead>\n",
       "  <tbody>\n",
       "    <tr>\n",
       "      <th id=\"T_71ed3_level0_row0\" class=\"row_heading level0 row0\" >baby-plage</th>\n",
       "      <td id=\"T_71ed3_row0_col0\" class=\"data row0 col0\" >Genève</td>\n",
       "      <td id=\"T_71ed3_row0_col1\" class=\"data row0 col1\" >lac</td>\n",
       "    </tr>\n",
       "    <tr>\n",
       "      <th id=\"T_71ed3_level0_row1\" class=\"row_heading level0 row1\" >hermance</th>\n",
       "      <td id=\"T_71ed3_row1_col0\" class=\"data row1 col0\" >Hermance</td>\n",
       "      <td id=\"T_71ed3_row1_col1\" class=\"data row1 col1\" >lac</td>\n",
       "    </tr>\n",
       "    <tr>\n",
       "      <th id=\"T_71ed3_level0_row2\" class=\"row_heading level0 row2\" >port-choiseul</th>\n",
       "      <td id=\"T_71ed3_row2_col0\" class=\"data row2 col0\" >Versoix</td>\n",
       "      <td id=\"T_71ed3_row2_col1\" class=\"data row2 col1\" >lac</td>\n",
       "    </tr>\n",
       "    <tr>\n",
       "      <th id=\"T_71ed3_level0_row3\" class=\"row_heading level0 row3\" >savoniere</th>\n",
       "      <td id=\"T_71ed3_row3_col0\" class=\"data row3 col0\" >Savonière</td>\n",
       "      <td id=\"T_71ed3_row3_col1\" class=\"data row3 col1\" >lac</td>\n",
       "    </tr>\n",
       "    <tr>\n",
       "      <th id=\"T_71ed3_level0_row4\" class=\"row_heading level0 row4\" >versoix-p</th>\n",
       "      <td id=\"T_71ed3_row4_col0\" class=\"data row4 col0\" >Versoix</td>\n",
       "      <td id=\"T_71ed3_row4_col1\" class=\"data row4 col1\" >lac</td>\n",
       "    </tr>\n",
       "    <tr>\n",
       "      <th id=\"T_71ed3_level0_row5\" class=\"row_heading level0 row5\" >villa-barton</th>\n",
       "      <td id=\"T_71ed3_row5_col0\" class=\"data row5 col0\" >Genève</td>\n",
       "      <td id=\"T_71ed3_row5_col1\" class=\"data row5 col1\" >lac</td>\n",
       "    </tr>\n",
       "    <tr>\n",
       "      <th id=\"T_71ed3_level0_row6\" class=\"row_heading level0 row6\" >arve_carouge_battistellak</th>\n",
       "      <td id=\"T_71ed3_row6_col0\" class=\"data row6 col0\" >Veyrier</td>\n",
       "      <td id=\"T_71ed3_row6_col1\" class=\"data row6 col1\" >rivière</td>\n",
       "    </tr>\n",
       "    <tr>\n",
       "      <th id=\"T_71ed3_level0_row7\" class=\"row_heading level0 row7\" >pont-sous-terre</th>\n",
       "      <td id=\"T_71ed3_row7_col0\" class=\"data row7 col0\" >Genève</td>\n",
       "      <td id=\"T_71ed3_row7_col1\" class=\"data row7 col1\" >rivière</td>\n",
       "    </tr>\n",
       "    <tr>\n",
       "      <th id=\"T_71ed3_level0_row8\" class=\"row_heading level0 row8\" >baby-plage-geneva</th>\n",
       "      <td id=\"T_71ed3_row8_col0\" class=\"data row8 col0\" >Genève</td>\n",
       "      <td id=\"T_71ed3_row8_col1\" class=\"data row8 col1\" >lac</td>\n",
       "    </tr>\n",
       "    <tr>\n",
       "      <th id=\"T_71ed3_level0_row9\" class=\"row_heading level0 row9\" >baby-plage-ii-geneve</th>\n",
       "      <td id=\"T_71ed3_row9_col0\" class=\"data row9 col0\" >Genève</td>\n",
       "      <td id=\"T_71ed3_row9_col1\" class=\"data row9 col1\" >lac</td>\n",
       "    </tr>\n",
       "    <tr>\n",
       "      <th id=\"T_71ed3_level0_row10\" class=\"row_heading level0 row10\" >jardin-botanique</th>\n",
       "      <td id=\"T_71ed3_row10_col0\" class=\"data row10 col0\" >Genève</td>\n",
       "      <td id=\"T_71ed3_row10_col1\" class=\"data row10 col1\" >lac</td>\n",
       "    </tr>\n",
       "    <tr>\n",
       "      <th id=\"T_71ed3_level0_row11\" class=\"row_heading level0 row11\" >rocky-plage</th>\n",
       "      <td id=\"T_71ed3_row11_col0\" class=\"data row11 col0\" >Genève</td>\n",
       "      <td id=\"T_71ed3_row11_col1\" class=\"data row11 col1\" >lac</td>\n",
       "    </tr>\n",
       "    <tr>\n",
       "      <th id=\"T_71ed3_level0_row12\" class=\"row_heading level0 row12\" >versoix</th>\n",
       "      <td id=\"T_71ed3_row12_col0\" class=\"data row12 col0\" >Versoix</td>\n",
       "      <td id=\"T_71ed3_row12_col1\" class=\"data row12 col1\" >lac</td>\n",
       "    </tr>\n",
       "  </tbody>\n",
       "</table>\n"
      ],
      "text/plain": [
       "<pandas.io.formats.style.Styler at 0x7fe4ba4e0bb0>"
      ]
     },
     "execution_count": 16,
     "metadata": {},
     "output_type": "execute_result"
    }
   ],
   "source": [
    "survey_locations = valais_all[[\"slug\", \"city\", \"zone\"]].drop_duplicates()\n",
    "survey_locations.set_index(\"slug\", inplace=True)\n",
    "survey_locations.index.name = None\n",
    "survey_locations.style.set_table_styles(table_large_font)"
   ]
  },
  {
   "cell_type": "markdown",
   "id": "708769b8-fa03-46c0-89c4-6b006ccde2e3",
   "metadata": {
    "editable": true,
    "slideshow": {
     "slide_type": ""
    },
    "tags": []
   },
   "source": [
    "## Inventaire complet"
   ]
  },
  {
   "cell_type": "code",
   "execution_count": 17,
   "id": "2bc71e72-cb2c-43c8-a38c-8ce27acf937f",
   "metadata": {
    "editable": true,
    "slideshow": {
     "slide_type": ""
    },
    "tags": [
     "remove-input"
    ]
   },
   "outputs": [],
   "source": [
    "operators = {\n",
    "    \"quantity\":\"sum\",\n",
    "    \"pcs/m\": \"median\",\n",
    "}\n",
    "\n",
    "valais_all[\"fail\"] = valais_all[\"quantity\"] > 0\n",
    "code_fails = valais_all.groupby(\"code\").fail.sum()\n",
    "code_fail_rate = code_fails/valais_all.loc_date.nunique()\n",
    "\n",
    "inventory = valais_all.groupby(\"code\", as_index=False).agg(operators)"
   ]
  },
  {
   "cell_type": "code",
   "execution_count": 18,
   "id": "a5de6413-e813-4f08-8e66-34b27f24f3e3",
   "metadata": {
    "editable": true,
    "slideshow": {
     "slide_type": ""
    },
    "tags": [
     "remove-input"
    ]
   },
   "outputs": [],
   "source": [
    "inventory[\"fail_rate\"] = inventory.code.apply(lambda x: code_fail_rate.loc[x])\n",
    "inventory = inventory[inventory.quantity > 0]\n",
    "inventory[\"object\"] =inventory.code.apply(lambda x: french_names[x])\n",
    "inventory = inventory[[\"code\", \"object\", \"quantity\", \"pcs/m\", \"fail_rate\"]]\n",
    "inventory.set_index(\"code\", inplace=True)\n",
    "inventory[\"quantity\"] = inventory.quantity.astype(\"int\")\n",
    "\n",
    "inventory.sort_values(by=\"quantity\", inplace=True, ascending=False)\n",
    "inventory.rename(columns=display_names, inplace=True)\n",
    "inventory.index.name = None"
   ]
  },
  {
   "cell_type": "code",
   "execution_count": 19,
   "id": "343e6ef2-11d1-4680-8ae0-686b7af276d2",
   "metadata": {
    "editable": true,
    "slideshow": {
     "slide_type": ""
    },
    "tags": [
     "remove-input"
    ]
   },
   "outputs": [
    {
     "data": {
      "text/html": [
       "<style type=\"text/css\">\n",
       "#T_93e48 tr:nth-child(even) {\n",
       "  background-color: rgba(139, 69, 19, 0.08);\n",
       "}\n",
       "#T_93e48 tr:nth-child(odd) {\n",
       "  background: #FFF;\n",
       "}\n",
       "#T_93e48 tr {\n",
       "  font-size: 14px;\n",
       "}\n",
       "#T_93e48 th:nth-child(1) {\n",
       "  background-color: #FFF;\n",
       "  text-align: right;\n",
       "}\n",
       "#T_93e48 caption {\n",
       "  font-size: 14px;\n",
       "  font-style: italic;\n",
       "  caption-side: bottom;\n",
       "  text-align: left;\n",
       "  margin-top: 10px;\n",
       "}\n",
       "</style>\n",
       "<table id=\"T_93e48\">\n",
       "  <thead>\n",
       "    <tr>\n",
       "      <th class=\"blank level0\" >&nbsp;</th>\n",
       "      <th id=\"T_93e48_level0_col0\" class=\"col_heading level0 col0\" >object</th>\n",
       "      <th id=\"T_93e48_level0_col1\" class=\"col_heading level0 col1\" >quantité</th>\n",
       "      <th id=\"T_93e48_level0_col2\" class=\"col_heading level0 col2\" >pcs/m</th>\n",
       "      <th id=\"T_93e48_level0_col3\" class=\"col_heading level0 col3\" >fail_rate</th>\n",
       "    </tr>\n",
       "  </thead>\n",
       "  <tbody>\n",
       "    <tr>\n",
       "      <th id=\"T_93e48_level0_row0\" class=\"row_heading level0 row0\" >Gfrags</th>\n",
       "      <td id=\"T_93e48_row0_col0\" class=\"data row0 col0\" >Plastiques fragmentés</td>\n",
       "      <td id=\"T_93e48_row0_col1\" class=\"data row0 col1\" >2872</td>\n",
       "      <td id=\"T_93e48_row0_col2\" class=\"data row0 col2\" >0.809</td>\n",
       "      <td id=\"T_93e48_row0_col3\" class=\"data row0 col3\" >0.814</td>\n",
       "    </tr>\n",
       "    <tr>\n",
       "      <th id=\"T_93e48_level0_row1\" class=\"row_heading level0 row1\" >G27</th>\n",
       "      <td id=\"T_93e48_row1_col0\" class=\"data row1 col0\" >Mégots et filtres à cigarettes</td>\n",
       "      <td id=\"T_93e48_row1_col1\" class=\"data row1 col1\" >2000</td>\n",
       "      <td id=\"T_93e48_row1_col2\" class=\"data row1 col2\" >0.273</td>\n",
       "      <td id=\"T_93e48_row1_col3\" class=\"data row1 col3\" >0.898</td>\n",
       "    </tr>\n",
       "    <tr>\n",
       "      <th id=\"T_93e48_level0_row2\" class=\"row_heading level0 row2\" >G30</th>\n",
       "      <td id=\"T_93e48_row2_col0\" class=\"data row2 col0\" >Emballages de bonbons, de snacks</td>\n",
       "      <td id=\"T_93e48_row2_col1\" class=\"data row2 col1\" >1036</td>\n",
       "      <td id=\"T_93e48_row2_col2\" class=\"data row2 col2\" >0.170</td>\n",
       "      <td id=\"T_93e48_row2_col3\" class=\"data row2 col3\" >0.831</td>\n",
       "    </tr>\n",
       "    <tr>\n",
       "      <th id=\"T_93e48_level0_row3\" class=\"row_heading level0 row3\" >Gfoam</th>\n",
       "      <td id=\"T_93e48_row3_col0\" class=\"data row3 col0\" >Polystyrène expansé fragmenté</td>\n",
       "      <td id=\"T_93e48_row3_col1\" class=\"data row3 col1\" >942</td>\n",
       "      <td id=\"T_93e48_row3_col2\" class=\"data row3 col2\" >0.052</td>\n",
       "      <td id=\"T_93e48_row3_col3\" class=\"data row3 col3\" >0.593</td>\n",
       "    </tr>\n",
       "    <tr>\n",
       "      <th id=\"T_93e48_level0_row4\" class=\"row_heading level0 row4\" >G112</th>\n",
       "      <td id=\"T_93e48_row4_col0\" class=\"data row4 col0\" >Pellets industriels (GPI)</td>\n",
       "      <td id=\"T_93e48_row4_col1\" class=\"data row4 col1\" >681</td>\n",
       "      <td id=\"T_93e48_row4_col2\" class=\"data row4 col2\" >0.000</td>\n",
       "      <td id=\"T_93e48_row4_col3\" class=\"data row4 col3\" >0.322</td>\n",
       "    </tr>\n",
       "    <tr>\n",
       "      <th id=\"T_93e48_level0_row5\" class=\"row_heading level0 row5\" >Gcaps</th>\n",
       "      <td id=\"T_93e48_row5_col0\" class=\"data row5 col0\" >Couvercles de bouteilles en plastique</td>\n",
       "      <td id=\"T_93e48_row5_col1\" class=\"data row5 col1\" >486</td>\n",
       "      <td id=\"T_93e48_row5_col2\" class=\"data row5 col2\" >0.086</td>\n",
       "      <td id=\"T_93e48_row5_col3\" class=\"data row5 col3\" >0.814</td>\n",
       "    </tr>\n",
       "    <tr>\n",
       "      <th id=\"T_93e48_level0_row6\" class=\"row_heading level0 row6\" >G95</th>\n",
       "      <td id=\"T_93e48_row6_col0\" class=\"data row6 col0\" >Coton-tige</td>\n",
       "      <td id=\"T_93e48_row6_col1\" class=\"data row6 col1\" >484</td>\n",
       "      <td id=\"T_93e48_row6_col2\" class=\"data row6 col2\" >0.037</td>\n",
       "      <td id=\"T_93e48_row6_col3\" class=\"data row6 col3\" >0.593</td>\n",
       "    </tr>\n",
       "    <tr>\n",
       "      <th id=\"T_93e48_level0_row7\" class=\"row_heading level0 row7\" >G67</th>\n",
       "      <td id=\"T_93e48_row7_col0\" class=\"data row7 col0\" >Bâche, feuille plastique industrielle</td>\n",
       "      <td id=\"T_93e48_row7_col1\" class=\"data row7 col1\" >290</td>\n",
       "      <td id=\"T_93e48_row7_col2\" class=\"data row7 col2\" >0.000</td>\n",
       "      <td id=\"T_93e48_row7_col3\" class=\"data row7 col3\" >0.390</td>\n",
       "    </tr>\n",
       "    <tr>\n",
       "      <th id=\"T_93e48_level0_row8\" class=\"row_heading level0 row8\" >G70</th>\n",
       "      <td id=\"T_93e48_row8_col0\" class=\"data row8 col0\" >Cartouches de fusil de chasse</td>\n",
       "      <td id=\"T_93e48_row8_col1\" class=\"data row8 col1\" >70</td>\n",
       "      <td id=\"T_93e48_row8_col2\" class=\"data row8 col2\" >0.000</td>\n",
       "      <td id=\"T_93e48_row8_col3\" class=\"data row8 col3\" >0.288</td>\n",
       "    </tr>\n",
       "    <tr>\n",
       "      <th id=\"T_93e48_level0_row9\" class=\"row_heading level0 row9\" >G10</th>\n",
       "      <td id=\"T_93e48_row9_col0\" class=\"data row9 col0\" >Emballage fast food</td>\n",
       "      <td id=\"T_93e48_row9_col1\" class=\"data row9 col1\" >52</td>\n",
       "      <td id=\"T_93e48_row9_col2\" class=\"data row9 col2\" >0.000</td>\n",
       "      <td id=\"T_93e48_row9_col3\" class=\"data row9 col3\" >0.322</td>\n",
       "    </tr>\n",
       "  </tbody>\n",
       "</table>\n"
      ],
      "text/plain": [
       "<pandas.io.formats.style.Styler at 0x7fe4ba392b20>"
      ]
     },
     "execution_count": 19,
     "metadata": {},
     "output_type": "execute_result"
    }
   ],
   "source": [
    "inventory.style.set_table_styles(table_large_font).format(precision=3)"
   ]
  },
  {
   "cell_type": "code",
   "execution_count": 20,
   "id": "5bec42d8-ed97-4004-828b-409022b85d7c",
   "metadata": {
    "editable": true,
    "slideshow": {
     "slide_type": ""
    },
    "tags": [
     "remove-input"
    ]
   },
   "outputs": [
    {
     "data": {
      "text/markdown": [
       "\n",
       "<br />\n",
       "<br />\n",
       "This script updated 13/09/2023 in Biel, CH\n",
       "\n",
       "❤️ what you do - faites ce que vous ❤️\n"
      ],
      "text/plain": [
       "<IPython.core.display.Markdown object>"
      ]
     },
     "execution_count": 20,
     "metadata": {},
     "output_type": "execute_result"
    }
   ],
   "source": [
    "\n",
    "today = dt.datetime.now().date().strftime(\"%d/%m/%Y\")\n",
    "where = \"Biel, CH\"\n",
    "\n",
    "my_block = f\"\"\"\n",
    "<br />\n",
    "<br />\n",
    "This script updated {today} in {where}\n",
    "\n",
    "\\u2764\\ufe0f what you do - faites ce que vous \\u2764\\ufe0f\n",
    "\"\"\"\n",
    "\n",
    "md(my_block)"
   ]
  },
  {
   "cell_type": "code",
   "execution_count": 21,
   "id": "11142d5a-9945-4ed7-8ed6-1aae1d07a1af",
   "metadata": {
    "editable": true,
    "slideshow": {
     "slide_type": ""
    },
    "tags": [
     "remove-input"
    ]
   },
   "outputs": [
    {
     "name": "stdout",
     "output_type": "stream",
     "text": [
      "Git repo: https://github.com/hammerdirt-analyst/cantonal_reports.git\n",
      "\n",
      "Git branch: main\n",
      "\n",
      "numpy     : 1.25.2\n",
      "seaborn   : 0.12.2\n",
      "pandas    : 2.0.3\n",
      "json      : 2.0.9\n",
      "matplotlib: 3.7.1\n",
      "\n"
     ]
    }
   ],
   "source": [
    "%watermark --iversions -b -r"
   ]
  }
 ],
 "metadata": {
  "kernelspec": {
   "display_name": "Python 3 (ipykernel)",
   "language": "python",
   "name": "python3"
  },
  "language_info": {
   "codemirror_mode": {
    "name": "ipython",
    "version": 3
   },
   "file_extension": ".py",
   "mimetype": "text/x-python",
   "name": "python",
   "nbconvert_exporter": "python",
   "pygments_lexer": "ipython3",
   "version": "3.9.17"
  }
 },
 "nbformat": 4,
 "nbformat_minor": 5
}